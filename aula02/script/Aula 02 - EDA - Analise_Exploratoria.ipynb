{
 "cells": [
  {
   "cell_type": "markdown",
   "metadata": {},
   "source": [
    "<img src=\"img/header.png\" alt=\"Challenge State of Data\">"
   ]
  },
  {
   "cell_type": "markdown",
   "metadata": {
    "jp-MarkdownHeadingCollapsed": true,
    "vscode": {
     "languageId": "raw"
    }
   },
   "source": [
    "# Aula 02 - EDA - Análise Exploratória de Dados\n",
    "\n",
    "## Análise de Salários na Área de Dados\n",
    "\n",
    "Ontem a gente aprendeu um bocado na aula de pandas! O foco hoje, padawan, não é no Python (somente) mas nas Análise Exploratória de Dados, também conhecida como **EDA (Exploratory Data Analysis)**. \n",
    "\n",
    "Como o dataset é MUITO grande, vamos mergulhar fundo nos dados de salários da área de dados brasileira. Nosso objetivo é descobrir padrões, tendências e insights interessantes através de visualizações bonitas e análises estatísticas.\n",
    "\n",
    "Importante que, apesar de criamos um MONTE de gráficos, a ideia aqui não é BELEZA, mas extração de insights!! Só na aula de DataViz nos preocupamos em deixar a banca examinadora de QUEIXO CAÍDO com os gráficos, mas hoje é COMPREENDER, extrair INFORMAÇÕES a partir de dados brutos.\n",
    "\n",
    "Simbora?!\n",
    "\n",
    "### Objetivos:\n",
    "- Realizar análise exploratória de Dados relacionados a salários\n",
    "- Explorar a distribuição salarial\n",
    "- Identificar fatores que influenciam os salários\n",
    "- Criar visualizações informativas\n",
    "- Extrair insights valiosos para profissionais da área\n",
    "\n",
    "Mas antes....\n"
   ]
  },
  {
   "cell_type": "markdown",
   "metadata": {},
   "source": [
    "<img src=\"img/para_tudo.png\" />\n",
    "\n",
    "# PARA, PARA, PARA TUDO!\n",
    "\n",
    "## TODO MUNDO NO KAGGLE AGOOORA!\n",
    "\n",
    "[Clica aqui que chega lá!](https://www.kaggle.com/datasets/datahackers/state-of-data-brazil-20242025)\n",
    "\n",
    "Agora deixa um UPVOTE porque esse Dataset DEU TRABALHO! SIM, DE NOVO! :D"
   ]
  },
  {
   "cell_type": "markdown",
   "metadata": {
    "vscode": {
     "languageId": "raw"
    }
   },
   "source": [
    "## 1. Importações e Configurações\n",
    "\n",
    "Primeiro, vamos importar todas as bibliotecas necessárias para nossa análise exploratória:\n"
   ]
  },
  {
   "cell_type": "code",
   "execution_count": 1,
   "metadata": {},
   "outputs": [],
   "source": [
    "# Manipulação de dados (nossos velhos conhecidos, só o numpy a gente não usou)\n",
    "import pandas as pd\n",
    "import numpy as np"
   ]
  },
  {
   "cell_type": "code",
   "execution_count": 2,
   "metadata": {},
   "outputs": [],
   "source": [
    "# Visualizações (virgem, que tanto de biblioteca!!! trouxe várias pra deixar pra vocês brincarem!)\n",
    "import matplotlib.pyplot as plt\n",
    "import seaborn as sns\n",
    "import plotly.express as px\n",
    "import plotly.graph_objects as go\n",
    "from plotly.subplots import make_subplots"
   ]
  },
  {
   "cell_type": "code",
   "execution_count": 3,
   "metadata": {},
   "outputs": [],
   "source": [
    "# Estatísticas \n",
    "from scipy import stats\n",
    "import warnings\n",
    "\n",
    "# Configurações\n",
    "warnings.filterwarnings('ignore')\n",
    "plt.style.use('seaborn-v0_8')\n",
    "sns.set_palette(\"husl\")\n",
    "\n",
    "# Configurações do matplotlib (calma que amanhã tem dataviz! hoje é só uns gráficos simples)\n",
    "plt.rcParams['figure.figsize'] = (12, 8)\n",
    "plt.rcParams['font.size'] = 12\n",
    "plt.rcParams['axes.grid'] = True\n",
    "plt.rcParams['grid.alpha'] = 0.3\n",
    "\n",
    "# Configurações do pandas\n",
    "pd.set_option('display.max_columns', None)\n",
    "pd.set_option('display.width', None)"
   ]
  },
  {
   "cell_type": "markdown",
   "metadata": {
    "vscode": {
     "languageId": "raw"
    }
   },
   "source": [
    "## 2. Carregamento e Visão Geral dos Dados\n",
    "\n",
    "Aqui vamos nos preparar para a nossa análise final! Cabe a você escolher uma análise bem massa pra ganhar esse Switch 2!\n",
    "\n",
    "Como tem MUITA coisa pra analisar, vamos tentar extrair insights relacionados a remuneração, afinal, esses boletos não vão se pagar sozinhos!\n",
    "\n",
    "Pra isso temos que deixar nosso dataset bem arrumadinho.\n",
    "\n",
    "Vamos focar nas colunas que nos darão informações sobre:\n",
    "- **Faixa salarial atual** dos profissionais\n",
    "- **Fatores que influenciam a satisfação** com remuneração\n",
    "- **Critérios de escolha** relacionados a salário\n",
    "- **Informações demográficas e profissionais** para segmentação\n",
    "\n"
   ]
  },
  {
   "cell_type": "code",
   "execution_count": 4,
   "metadata": {},
   "outputs": [],
   "source": [
    "df_completo = pd.read_csv('data/raw/Final Dataset - State of Data 2024 - Kaggle - df_survey_2024.csv')\n"
   ]
  },
  {
   "cell_type": "code",
   "execution_count": 5,
   "metadata": {},
   "outputs": [
    {
     "name": "stdout",
     "output_type": "stream",
     "text": [
      "Colunas relacionadas à remuneração renomeadas:\n",
      "  1.a.1_faixa_idade -> faixa_etaria\n",
      "  1.b_genero -> genero\n",
      "  1.c_cor/raca/etnia -> etnia\n",
      "  1.a_idade -> idade\n",
      "  1.d_pcd -> pcd\n",
      "  1.e_experiencia_profissional_prejudicada -> xp_profissional_prejudicada\n",
      "  1.i.1_uf_onde_mora -> uf_residencia\n",
      "  1.l_nivel_de_ensino -> nivel_ensino\n",
      "  1.m_área_de_formação -> area_formacao\n",
      "  2.a_situação_de_trabalho -> situacao_trabalho\n",
      "  2.f_cargo_atual -> cargo_atual\n",
      "  2.h_faixa_salarial -> faixa_salarial\n",
      "  2.i_tempo_de_experiencia_em_dados -> tempo_experiencia_dados\n",
      "  2.l.1_Remuneração/Salário -> satisfacao_remuneracao\n",
      "  2.o.1_Remuneração/Salário -> importancia_salario_escolha_emprego\n",
      "  2.l.2_Benefícios -> satisfacao_beneficios\n",
      "  2.o.2_Benefícios -> importancia_beneficios_escolha_emprego\n",
      "\n",
      "Vamos ver os dados dessas colunas:\n"
     ]
    },
    {
     "data": {
      "text/html": [
       "<div>\n",
       "<style scoped>\n",
       "    .dataframe tbody tr th:only-of-type {\n",
       "        vertical-align: middle;\n",
       "    }\n",
       "\n",
       "    .dataframe tbody tr th {\n",
       "        vertical-align: top;\n",
       "    }\n",
       "\n",
       "    .dataframe thead th {\n",
       "        text-align: right;\n",
       "    }\n",
       "</style>\n",
       "<table border=\"1\" class=\"dataframe\">\n",
       "  <thead>\n",
       "    <tr style=\"text-align: right;\">\n",
       "      <th></th>\n",
       "      <th>faixa_etaria</th>\n",
       "      <th>genero</th>\n",
       "      <th>etnia</th>\n",
       "      <th>idade</th>\n",
       "      <th>pcd</th>\n",
       "      <th>xp_profissional_prejudicada</th>\n",
       "      <th>uf_residencia</th>\n",
       "      <th>nivel_ensino</th>\n",
       "      <th>area_formacao</th>\n",
       "      <th>situacao_trabalho</th>\n",
       "      <th>cargo_atual</th>\n",
       "      <th>faixa_salarial</th>\n",
       "      <th>tempo_experiencia_dados</th>\n",
       "      <th>satisfacao_remuneracao</th>\n",
       "      <th>importancia_salario_escolha_emprego</th>\n",
       "      <th>satisfacao_beneficios</th>\n",
       "      <th>importancia_beneficios_escolha_emprego</th>\n",
       "    </tr>\n",
       "  </thead>\n",
       "  <tbody>\n",
       "    <tr>\n",
       "      <th>0</th>\n",
       "      <td>17-21</td>\n",
       "      <td>Masculino</td>\n",
       "      <td>Branca</td>\n",
       "      <td>18</td>\n",
       "      <td>Não</td>\n",
       "      <td>NaN</td>\n",
       "      <td>RS</td>\n",
       "      <td>Estudante de Graduação</td>\n",
       "      <td>Computação / Engenharia de Software / Sistemas...</td>\n",
       "      <td>Estagiário</td>\n",
       "      <td>Analista de Dados/Data Analyst</td>\n",
       "      <td>de R$ 1.001/mês a R$ 2.000/mês</td>\n",
       "      <td>de 1 a 2 anos</td>\n",
       "      <td>NaN</td>\n",
       "      <td>1.0</td>\n",
       "      <td>NaN</td>\n",
       "      <td>0.0</td>\n",
       "    </tr>\n",
       "    <tr>\n",
       "      <th>1</th>\n",
       "      <td>17-21</td>\n",
       "      <td>Masculino</td>\n",
       "      <td>Branca</td>\n",
       "      <td>18</td>\n",
       "      <td>Não</td>\n",
       "      <td>NaN</td>\n",
       "      <td>SC</td>\n",
       "      <td>Estudante de Graduação</td>\n",
       "      <td>Computação / Engenharia de Software / Sistemas...</td>\n",
       "      <td>Estagiário</td>\n",
       "      <td>Analista de BI/BI Analyst</td>\n",
       "      <td>Menos de R$ 1.000/mês</td>\n",
       "      <td>Menos de 1 ano</td>\n",
       "      <td>NaN</td>\n",
       "      <td>0.0</td>\n",
       "      <td>NaN</td>\n",
       "      <td>0.0</td>\n",
       "    </tr>\n",
       "    <tr>\n",
       "      <th>2</th>\n",
       "      <td>17-21</td>\n",
       "      <td>Masculino</td>\n",
       "      <td>Parda</td>\n",
       "      <td>18</td>\n",
       "      <td>Não</td>\n",
       "      <td>Não acredito que minha experiência profissiona...</td>\n",
       "      <td>SP</td>\n",
       "      <td>Estudante de Graduação</td>\n",
       "      <td>Computação / Engenharia de Software / Sistemas...</td>\n",
       "      <td>Empregado (CLT)</td>\n",
       "      <td>Outra Opção</td>\n",
       "      <td>de R$ 1.001/mês a R$ 2.000/mês</td>\n",
       "      <td>Não tenho experiência na área de dados</td>\n",
       "      <td>1.0</td>\n",
       "      <td>1.0</td>\n",
       "      <td>0.0</td>\n",
       "      <td>0.0</td>\n",
       "    </tr>\n",
       "    <tr>\n",
       "      <th>3</th>\n",
       "      <td>17-21</td>\n",
       "      <td>Masculino</td>\n",
       "      <td>Branca</td>\n",
       "      <td>18</td>\n",
       "      <td>Não</td>\n",
       "      <td>NaN</td>\n",
       "      <td>SP</td>\n",
       "      <td>Estudante de Graduação</td>\n",
       "      <td>Computação / Engenharia de Software / Sistemas...</td>\n",
       "      <td>Estagiário</td>\n",
       "      <td>Analista de Dados/Data Analyst</td>\n",
       "      <td>de R$ 1.001/mês a R$ 2.000/mês</td>\n",
       "      <td>Menos de 1 ano</td>\n",
       "      <td>NaN</td>\n",
       "      <td>1.0</td>\n",
       "      <td>NaN</td>\n",
       "      <td>0.0</td>\n",
       "    </tr>\n",
       "    <tr>\n",
       "      <th>4</th>\n",
       "      <td>17-21</td>\n",
       "      <td>Masculino</td>\n",
       "      <td>Branca</td>\n",
       "      <td>18</td>\n",
       "      <td>Não</td>\n",
       "      <td>NaN</td>\n",
       "      <td>SP</td>\n",
       "      <td>Estudante de Graduação</td>\n",
       "      <td>Computação / Engenharia de Software / Sistemas...</td>\n",
       "      <td>Estagiário</td>\n",
       "      <td>Desenvolvedor/ Engenheiro de Software/ Analist...</td>\n",
       "      <td>de R$ 1.001/mês a R$ 2.000/mês</td>\n",
       "      <td>Menos de 1 ano</td>\n",
       "      <td>NaN</td>\n",
       "      <td>0.0</td>\n",
       "      <td>NaN</td>\n",
       "      <td>0.0</td>\n",
       "    </tr>\n",
       "  </tbody>\n",
       "</table>\n",
       "</div>"
      ],
      "text/plain": [
       "  faixa_etaria     genero   etnia  idade  pcd  \\\n",
       "0        17-21  Masculino  Branca     18  Não   \n",
       "1        17-21  Masculino  Branca     18  Não   \n",
       "2        17-21  Masculino   Parda     18  Não   \n",
       "3        17-21  Masculino  Branca     18  Não   \n",
       "4        17-21  Masculino  Branca     18  Não   \n",
       "\n",
       "                         xp_profissional_prejudicada uf_residencia  \\\n",
       "0                                                NaN            RS   \n",
       "1                                                NaN            SC   \n",
       "2  Não acredito que minha experiência profissiona...            SP   \n",
       "3                                                NaN            SP   \n",
       "4                                                NaN            SP   \n",
       "\n",
       "             nivel_ensino                                      area_formacao  \\\n",
       "0  Estudante de Graduação  Computação / Engenharia de Software / Sistemas...   \n",
       "1  Estudante de Graduação  Computação / Engenharia de Software / Sistemas...   \n",
       "2  Estudante de Graduação  Computação / Engenharia de Software / Sistemas...   \n",
       "3  Estudante de Graduação  Computação / Engenharia de Software / Sistemas...   \n",
       "4  Estudante de Graduação  Computação / Engenharia de Software / Sistemas...   \n",
       "\n",
       "  situacao_trabalho                                        cargo_atual  \\\n",
       "0        Estagiário                     Analista de Dados/Data Analyst   \n",
       "1        Estagiário                          Analista de BI/BI Analyst   \n",
       "2   Empregado (CLT)                                        Outra Opção   \n",
       "3        Estagiário                     Analista de Dados/Data Analyst   \n",
       "4        Estagiário  Desenvolvedor/ Engenheiro de Software/ Analist...   \n",
       "\n",
       "                   faixa_salarial                 tempo_experiencia_dados  \\\n",
       "0  de R$ 1.001/mês a R$ 2.000/mês                           de 1 a 2 anos   \n",
       "1           Menos de R$ 1.000/mês                          Menos de 1 ano   \n",
       "2  de R$ 1.001/mês a R$ 2.000/mês  Não tenho experiência na área de dados   \n",
       "3  de R$ 1.001/mês a R$ 2.000/mês                          Menos de 1 ano   \n",
       "4  de R$ 1.001/mês a R$ 2.000/mês                          Menos de 1 ano   \n",
       "\n",
       "   satisfacao_remuneracao  importancia_salario_escolha_emprego  \\\n",
       "0                     NaN                                  1.0   \n",
       "1                     NaN                                  0.0   \n",
       "2                     1.0                                  1.0   \n",
       "3                     NaN                                  1.0   \n",
       "4                     NaN                                  0.0   \n",
       "\n",
       "   satisfacao_beneficios  importancia_beneficios_escolha_emprego  \n",
       "0                    NaN                                     0.0  \n",
       "1                    NaN                                     0.0  \n",
       "2                    0.0                                     0.0  \n",
       "3                    NaN                                     0.0  \n",
       "4                    NaN                                     0.0  "
      ]
     },
     "execution_count": 5,
     "metadata": {},
     "output_type": "execute_result"
    }
   ],
   "source": [
    "# Vamos identificar e renomear as colunas relacionadas à remuneração\n",
    "colunas_remuneracao = {\n",
    "    '1.a.1_faixa_idade': 'faixa_etaria',\n",
    "    '1.b_genero': 'genero',\n",
    "    '1.c_cor/raca/etnia': 'etnia',\n",
    "    '1.a_idade': 'idade',\n",
    "    '1.d_pcd': 'pcd',\n",
    "    '1.e_experiencia_profissional_prejudicada': 'xp_profissional_prejudicada',\n",
    "    '1.i.1_uf_onde_mora': 'uf_residencia',\n",
    "    '1.l_nivel_de_ensino': 'nivel_ensino',\n",
    "    '1.m_área_de_formação': 'area_formacao',\n",
    "    '2.a_situação_de_trabalho': 'situacao_trabalho',\n",
    "    '2.f_cargo_atual': 'cargo_atual',\n",
    "    '2.h_faixa_salarial': 'faixa_salarial',\n",
    "    '2.i_tempo_de_experiencia_em_dados': 'tempo_experiencia_dados',\n",
    "    '2.l.1_Remuneração/Salário': 'satisfacao_remuneracao',\n",
    "    '2.o.1_Remuneração/Salário': 'importancia_salario_escolha_emprego',\n",
    "    '2.l.2_Benefícios': 'satisfacao_beneficios',\n",
    "    '2.o.2_Benefícios': 'importancia_beneficios_escolha_emprego'\n",
    "}\n",
    "\n",
    "# Renomeando as colunas de remuneração\n",
    "df_remuneracoes = df_completo[colunas_remuneracao.keys()]\n",
    "df_remuneracoes = df_remuneracoes.rename(columns=colunas_remuneracao)\n",
    "\n",
    "print(\"Colunas relacionadas à remuneração renomeadas:\")\n",
    "for original, novo in colunas_remuneracao.items():\n",
    "    print(f\"  {original} -> {novo}\")\n",
    "    \n",
    "print(\"\\nVamos ver os dados dessas colunas:\")\n",
    "colunas_salario = list(colunas_remuneracao.values())\n",
    "df_remuneracoes[colunas_salario].head()\n"
   ]
  },
  {
   "cell_type": "code",
   "execution_count": 6,
   "metadata": {},
   "outputs": [
    {
     "name": "stdout",
     "output_type": "stream",
     "text": [
      "Dataset de salários original: 5217 linhas\n",
      "Dataset de salários limpo: 4863 linhas\n",
      "Linhas removidas: 354\n",
      "\n",
      "Distribuição final das faixas salariais:\n",
      "faixa_salarial\n",
      "Acima de R$ 40.001/mês               104\n",
      "Menos de R$ 1.000/mês                 33\n",
      "de R$ 1.001/mês a R$ 2.000/mês       155\n",
      "de R$ 12.001/mês a R$ 16.000/mês     716\n",
      "de R$ 16.001/mês a R$ 20.000/mês     456\n",
      "de R$ 2.001/mês a R$ 3.000/mês       237\n",
      "de R$ 20.001/mês a R$ 25.000/mês     246\n",
      "de R$ 25.001/mês a R$ 30.000/mês     159\n",
      "de R$ 3.001/mês a R$ 4.000/mês       270\n",
      "de R$ 30.001/mês a R$ 40.000/mês     158\n",
      "de R$ 4.001/mês a R$ 6.000/mês       593\n",
      "de R$ 6.001/mês a R$ 8.000/mês       656\n",
      "de R$ 8.001/mês a R$ 12.000/mês     1080\n",
      "Name: count, dtype: int64\n"
     ]
    }
   ],
   "source": [
    "# Vamos limpar o dataset pra deixar só com com colunas relacionadas a salário!\n",
    "# Removendo apenas linhas sem informação de faixa salarial (nossa variável principal)\n",
    "df_salarios_limpo = df_remuneracoes.dropna(subset=['faixa_salarial'])\n",
    "\n",
    "print(f\"Dataset de salários original: {len(df_remuneracoes)} linhas\")\n",
    "print(f\"Dataset de salários limpo: {len(df_salarios_limpo)} linhas\")\n",
    "print(f\"Linhas removidas: {len(df_remuneracoes) - len(df_salarios_limpo)}\")\n",
    "\n",
    "# Verificando a distribuição final\n",
    "print(f\"\\nDistribuição final das faixas salariais:\")\n",
    "print(df_salarios_limpo['faixa_salarial'].value_counts().sort_index())\n",
    "\n",
    "# Salvando o dataset específico para análise de remuneração\n",
    "df_salarios_limpo.to_csv('data/processed/dataset_salarios_dados.csv', index=False)"
   ]
  },
  {
   "cell_type": "code",
   "execution_count": 7,
   "metadata": {},
   "outputs": [
    {
     "data": {
      "text/html": [
       "<div>\n",
       "<style scoped>\n",
       "    .dataframe tbody tr th:only-of-type {\n",
       "        vertical-align: middle;\n",
       "    }\n",
       "\n",
       "    .dataframe tbody tr th {\n",
       "        vertical-align: top;\n",
       "    }\n",
       "\n",
       "    .dataframe thead th {\n",
       "        text-align: right;\n",
       "    }\n",
       "</style>\n",
       "<table border=\"1\" class=\"dataframe\">\n",
       "  <thead>\n",
       "    <tr style=\"text-align: right;\">\n",
       "      <th></th>\n",
       "      <th>faixa_etaria</th>\n",
       "      <th>genero</th>\n",
       "      <th>etnia</th>\n",
       "      <th>idade</th>\n",
       "      <th>pcd</th>\n",
       "      <th>xp_profissional_prejudicada</th>\n",
       "      <th>uf_residencia</th>\n",
       "      <th>nivel_ensino</th>\n",
       "      <th>area_formacao</th>\n",
       "      <th>situacao_trabalho</th>\n",
       "      <th>cargo_atual</th>\n",
       "      <th>faixa_salarial</th>\n",
       "      <th>tempo_experiencia_dados</th>\n",
       "      <th>satisfacao_remuneracao</th>\n",
       "      <th>importancia_salario_escolha_emprego</th>\n",
       "      <th>satisfacao_beneficios</th>\n",
       "      <th>importancia_beneficios_escolha_emprego</th>\n",
       "    </tr>\n",
       "  </thead>\n",
       "  <tbody>\n",
       "    <tr>\n",
       "      <th>0</th>\n",
       "      <td>17-21</td>\n",
       "      <td>Masculino</td>\n",
       "      <td>Branca</td>\n",
       "      <td>18</td>\n",
       "      <td>Não</td>\n",
       "      <td>NaN</td>\n",
       "      <td>RS</td>\n",
       "      <td>Estudante de Graduação</td>\n",
       "      <td>Computação / Engenharia de Software / Sistemas...</td>\n",
       "      <td>Estagiário</td>\n",
       "      <td>Analista de Dados/Data Analyst</td>\n",
       "      <td>de R$ 1.001/mês a R$ 2.000/mês</td>\n",
       "      <td>de 1 a 2 anos</td>\n",
       "      <td>NaN</td>\n",
       "      <td>1.0</td>\n",
       "      <td>NaN</td>\n",
       "      <td>0.0</td>\n",
       "    </tr>\n",
       "    <tr>\n",
       "      <th>1</th>\n",
       "      <td>17-21</td>\n",
       "      <td>Masculino</td>\n",
       "      <td>Branca</td>\n",
       "      <td>18</td>\n",
       "      <td>Não</td>\n",
       "      <td>NaN</td>\n",
       "      <td>SC</td>\n",
       "      <td>Estudante de Graduação</td>\n",
       "      <td>Computação / Engenharia de Software / Sistemas...</td>\n",
       "      <td>Estagiário</td>\n",
       "      <td>Analista de BI/BI Analyst</td>\n",
       "      <td>Menos de R$ 1.000/mês</td>\n",
       "      <td>Menos de 1 ano</td>\n",
       "      <td>NaN</td>\n",
       "      <td>0.0</td>\n",
       "      <td>NaN</td>\n",
       "      <td>0.0</td>\n",
       "    </tr>\n",
       "    <tr>\n",
       "      <th>2</th>\n",
       "      <td>17-21</td>\n",
       "      <td>Masculino</td>\n",
       "      <td>Parda</td>\n",
       "      <td>18</td>\n",
       "      <td>Não</td>\n",
       "      <td>Não acredito que minha experiência profissiona...</td>\n",
       "      <td>SP</td>\n",
       "      <td>Estudante de Graduação</td>\n",
       "      <td>Computação / Engenharia de Software / Sistemas...</td>\n",
       "      <td>Empregado (CLT)</td>\n",
       "      <td>Outra Opção</td>\n",
       "      <td>de R$ 1.001/mês a R$ 2.000/mês</td>\n",
       "      <td>Não tenho experiência na área de dados</td>\n",
       "      <td>1.0</td>\n",
       "      <td>1.0</td>\n",
       "      <td>0.0</td>\n",
       "      <td>0.0</td>\n",
       "    </tr>\n",
       "    <tr>\n",
       "      <th>3</th>\n",
       "      <td>17-21</td>\n",
       "      <td>Masculino</td>\n",
       "      <td>Branca</td>\n",
       "      <td>18</td>\n",
       "      <td>Não</td>\n",
       "      <td>NaN</td>\n",
       "      <td>SP</td>\n",
       "      <td>Estudante de Graduação</td>\n",
       "      <td>Computação / Engenharia de Software / Sistemas...</td>\n",
       "      <td>Estagiário</td>\n",
       "      <td>Analista de Dados/Data Analyst</td>\n",
       "      <td>de R$ 1.001/mês a R$ 2.000/mês</td>\n",
       "      <td>Menos de 1 ano</td>\n",
       "      <td>NaN</td>\n",
       "      <td>1.0</td>\n",
       "      <td>NaN</td>\n",
       "      <td>0.0</td>\n",
       "    </tr>\n",
       "    <tr>\n",
       "      <th>4</th>\n",
       "      <td>17-21</td>\n",
       "      <td>Masculino</td>\n",
       "      <td>Branca</td>\n",
       "      <td>18</td>\n",
       "      <td>Não</td>\n",
       "      <td>NaN</td>\n",
       "      <td>SP</td>\n",
       "      <td>Estudante de Graduação</td>\n",
       "      <td>Computação / Engenharia de Software / Sistemas...</td>\n",
       "      <td>Estagiário</td>\n",
       "      <td>Desenvolvedor/ Engenheiro de Software/ Analist...</td>\n",
       "      <td>de R$ 1.001/mês a R$ 2.000/mês</td>\n",
       "      <td>Menos de 1 ano</td>\n",
       "      <td>NaN</td>\n",
       "      <td>0.0</td>\n",
       "      <td>NaN</td>\n",
       "      <td>0.0</td>\n",
       "    </tr>\n",
       "  </tbody>\n",
       "</table>\n",
       "</div>"
      ],
      "text/plain": [
       "  faixa_etaria     genero   etnia  idade  pcd  \\\n",
       "0        17-21  Masculino  Branca     18  Não   \n",
       "1        17-21  Masculino  Branca     18  Não   \n",
       "2        17-21  Masculino   Parda     18  Não   \n",
       "3        17-21  Masculino  Branca     18  Não   \n",
       "4        17-21  Masculino  Branca     18  Não   \n",
       "\n",
       "                         xp_profissional_prejudicada uf_residencia  \\\n",
       "0                                                NaN            RS   \n",
       "1                                                NaN            SC   \n",
       "2  Não acredito que minha experiência profissiona...            SP   \n",
       "3                                                NaN            SP   \n",
       "4                                                NaN            SP   \n",
       "\n",
       "             nivel_ensino                                      area_formacao  \\\n",
       "0  Estudante de Graduação  Computação / Engenharia de Software / Sistemas...   \n",
       "1  Estudante de Graduação  Computação / Engenharia de Software / Sistemas...   \n",
       "2  Estudante de Graduação  Computação / Engenharia de Software / Sistemas...   \n",
       "3  Estudante de Graduação  Computação / Engenharia de Software / Sistemas...   \n",
       "4  Estudante de Graduação  Computação / Engenharia de Software / Sistemas...   \n",
       "\n",
       "  situacao_trabalho                                        cargo_atual  \\\n",
       "0        Estagiário                     Analista de Dados/Data Analyst   \n",
       "1        Estagiário                          Analista de BI/BI Analyst   \n",
       "2   Empregado (CLT)                                        Outra Opção   \n",
       "3        Estagiário                     Analista de Dados/Data Analyst   \n",
       "4        Estagiário  Desenvolvedor/ Engenheiro de Software/ Analist...   \n",
       "\n",
       "                   faixa_salarial                 tempo_experiencia_dados  \\\n",
       "0  de R$ 1.001/mês a R$ 2.000/mês                           de 1 a 2 anos   \n",
       "1           Menos de R$ 1.000/mês                          Menos de 1 ano   \n",
       "2  de R$ 1.001/mês a R$ 2.000/mês  Não tenho experiência na área de dados   \n",
       "3  de R$ 1.001/mês a R$ 2.000/mês                          Menos de 1 ano   \n",
       "4  de R$ 1.001/mês a R$ 2.000/mês                          Menos de 1 ano   \n",
       "\n",
       "   satisfacao_remuneracao  importancia_salario_escolha_emprego  \\\n",
       "0                     NaN                                  1.0   \n",
       "1                     NaN                                  0.0   \n",
       "2                     1.0                                  1.0   \n",
       "3                     NaN                                  1.0   \n",
       "4                     NaN                                  0.0   \n",
       "\n",
       "   satisfacao_beneficios  importancia_beneficios_escolha_emprego  \n",
       "0                    NaN                                     0.0  \n",
       "1                    NaN                                     0.0  \n",
       "2                    0.0                                     0.0  \n",
       "3                    NaN                                     0.0  \n",
       "4                    NaN                                     0.0  "
      ]
     },
     "execution_count": 7,
     "metadata": {},
     "output_type": "execute_result"
    }
   ],
   "source": [
    "df_salarios_limpo.head()"
   ]
  },
  {
   "cell_type": "code",
   "execution_count": 8,
   "metadata": {},
   "outputs": [
    {
     "name": "stdout",
     "output_type": "stream",
     "text": [
      "📊 Dataset carregado com sucesso!\n",
      "   • Linhas: 4,863\n",
      "   • Colunas: 17\n",
      "   • Período: Pesquisa State of Data 2024\n"
     ]
    }
   ],
   "source": [
    "# Carregando o dataset limpo\n",
    "df = pd.read_csv('data/processed/dataset_salarios_dados.csv')\n",
    "\n",
    "print(f\"📊 Dataset carregado com sucesso!\")\n",
    "print(f\"   • Linhas: {len(df):,}\")\n",
    "print(f\"   • Colunas: {len(df.columns)}\")\n",
    "print(f\"   • Período: Pesquisa State of Data 2024\")"
   ]
  },
  {
   "cell_type": "code",
   "execution_count": 9,
   "metadata": {},
   "outputs": [
    {
     "name": "stdout",
     "output_type": "stream",
     "text": [
      "\n",
      "🔍 Primeiras 5 linhas:\n"
     ]
    },
    {
     "data": {
      "text/html": [
       "<div>\n",
       "<style scoped>\n",
       "    .dataframe tbody tr th:only-of-type {\n",
       "        vertical-align: middle;\n",
       "    }\n",
       "\n",
       "    .dataframe tbody tr th {\n",
       "        vertical-align: top;\n",
       "    }\n",
       "\n",
       "    .dataframe thead th {\n",
       "        text-align: right;\n",
       "    }\n",
       "</style>\n",
       "<table border=\"1\" class=\"dataframe\">\n",
       "  <thead>\n",
       "    <tr style=\"text-align: right;\">\n",
       "      <th></th>\n",
       "      <th>faixa_etaria</th>\n",
       "      <th>genero</th>\n",
       "      <th>etnia</th>\n",
       "      <th>idade</th>\n",
       "      <th>pcd</th>\n",
       "      <th>xp_profissional_prejudicada</th>\n",
       "      <th>uf_residencia</th>\n",
       "      <th>nivel_ensino</th>\n",
       "      <th>area_formacao</th>\n",
       "      <th>situacao_trabalho</th>\n",
       "      <th>cargo_atual</th>\n",
       "      <th>faixa_salarial</th>\n",
       "      <th>tempo_experiencia_dados</th>\n",
       "      <th>satisfacao_remuneracao</th>\n",
       "      <th>importancia_salario_escolha_emprego</th>\n",
       "      <th>satisfacao_beneficios</th>\n",
       "      <th>importancia_beneficios_escolha_emprego</th>\n",
       "    </tr>\n",
       "  </thead>\n",
       "  <tbody>\n",
       "    <tr>\n",
       "      <th>0</th>\n",
       "      <td>17-21</td>\n",
       "      <td>Masculino</td>\n",
       "      <td>Branca</td>\n",
       "      <td>18</td>\n",
       "      <td>Não</td>\n",
       "      <td>NaN</td>\n",
       "      <td>RS</td>\n",
       "      <td>Estudante de Graduação</td>\n",
       "      <td>Computação / Engenharia de Software / Sistemas...</td>\n",
       "      <td>Estagiário</td>\n",
       "      <td>Analista de Dados/Data Analyst</td>\n",
       "      <td>de R$ 1.001/mês a R$ 2.000/mês</td>\n",
       "      <td>de 1 a 2 anos</td>\n",
       "      <td>NaN</td>\n",
       "      <td>1.0</td>\n",
       "      <td>NaN</td>\n",
       "      <td>0.0</td>\n",
       "    </tr>\n",
       "    <tr>\n",
       "      <th>1</th>\n",
       "      <td>17-21</td>\n",
       "      <td>Masculino</td>\n",
       "      <td>Branca</td>\n",
       "      <td>18</td>\n",
       "      <td>Não</td>\n",
       "      <td>NaN</td>\n",
       "      <td>SC</td>\n",
       "      <td>Estudante de Graduação</td>\n",
       "      <td>Computação / Engenharia de Software / Sistemas...</td>\n",
       "      <td>Estagiário</td>\n",
       "      <td>Analista de BI/BI Analyst</td>\n",
       "      <td>Menos de R$ 1.000/mês</td>\n",
       "      <td>Menos de 1 ano</td>\n",
       "      <td>NaN</td>\n",
       "      <td>0.0</td>\n",
       "      <td>NaN</td>\n",
       "      <td>0.0</td>\n",
       "    </tr>\n",
       "    <tr>\n",
       "      <th>2</th>\n",
       "      <td>17-21</td>\n",
       "      <td>Masculino</td>\n",
       "      <td>Parda</td>\n",
       "      <td>18</td>\n",
       "      <td>Não</td>\n",
       "      <td>Não acredito que minha experiência profissiona...</td>\n",
       "      <td>SP</td>\n",
       "      <td>Estudante de Graduação</td>\n",
       "      <td>Computação / Engenharia de Software / Sistemas...</td>\n",
       "      <td>Empregado (CLT)</td>\n",
       "      <td>Outra Opção</td>\n",
       "      <td>de R$ 1.001/mês a R$ 2.000/mês</td>\n",
       "      <td>Não tenho experiência na área de dados</td>\n",
       "      <td>1.0</td>\n",
       "      <td>1.0</td>\n",
       "      <td>0.0</td>\n",
       "      <td>0.0</td>\n",
       "    </tr>\n",
       "    <tr>\n",
       "      <th>3</th>\n",
       "      <td>17-21</td>\n",
       "      <td>Masculino</td>\n",
       "      <td>Branca</td>\n",
       "      <td>18</td>\n",
       "      <td>Não</td>\n",
       "      <td>NaN</td>\n",
       "      <td>SP</td>\n",
       "      <td>Estudante de Graduação</td>\n",
       "      <td>Computação / Engenharia de Software / Sistemas...</td>\n",
       "      <td>Estagiário</td>\n",
       "      <td>Analista de Dados/Data Analyst</td>\n",
       "      <td>de R$ 1.001/mês a R$ 2.000/mês</td>\n",
       "      <td>Menos de 1 ano</td>\n",
       "      <td>NaN</td>\n",
       "      <td>1.0</td>\n",
       "      <td>NaN</td>\n",
       "      <td>0.0</td>\n",
       "    </tr>\n",
       "    <tr>\n",
       "      <th>4</th>\n",
       "      <td>17-21</td>\n",
       "      <td>Masculino</td>\n",
       "      <td>Branca</td>\n",
       "      <td>18</td>\n",
       "      <td>Não</td>\n",
       "      <td>NaN</td>\n",
       "      <td>SP</td>\n",
       "      <td>Estudante de Graduação</td>\n",
       "      <td>Computação / Engenharia de Software / Sistemas...</td>\n",
       "      <td>Estagiário</td>\n",
       "      <td>Desenvolvedor/ Engenheiro de Software/ Analist...</td>\n",
       "      <td>de R$ 1.001/mês a R$ 2.000/mês</td>\n",
       "      <td>Menos de 1 ano</td>\n",
       "      <td>NaN</td>\n",
       "      <td>0.0</td>\n",
       "      <td>NaN</td>\n",
       "      <td>0.0</td>\n",
       "    </tr>\n",
       "  </tbody>\n",
       "</table>\n",
       "</div>"
      ],
      "text/plain": [
       "  faixa_etaria     genero   etnia  idade  pcd  \\\n",
       "0        17-21  Masculino  Branca     18  Não   \n",
       "1        17-21  Masculino  Branca     18  Não   \n",
       "2        17-21  Masculino   Parda     18  Não   \n",
       "3        17-21  Masculino  Branca     18  Não   \n",
       "4        17-21  Masculino  Branca     18  Não   \n",
       "\n",
       "                         xp_profissional_prejudicada uf_residencia  \\\n",
       "0                                                NaN            RS   \n",
       "1                                                NaN            SC   \n",
       "2  Não acredito que minha experiência profissiona...            SP   \n",
       "3                                                NaN            SP   \n",
       "4                                                NaN            SP   \n",
       "\n",
       "             nivel_ensino                                      area_formacao  \\\n",
       "0  Estudante de Graduação  Computação / Engenharia de Software / Sistemas...   \n",
       "1  Estudante de Graduação  Computação / Engenharia de Software / Sistemas...   \n",
       "2  Estudante de Graduação  Computação / Engenharia de Software / Sistemas...   \n",
       "3  Estudante de Graduação  Computação / Engenharia de Software / Sistemas...   \n",
       "4  Estudante de Graduação  Computação / Engenharia de Software / Sistemas...   \n",
       "\n",
       "  situacao_trabalho                                        cargo_atual  \\\n",
       "0        Estagiário                     Analista de Dados/Data Analyst   \n",
       "1        Estagiário                          Analista de BI/BI Analyst   \n",
       "2   Empregado (CLT)                                        Outra Opção   \n",
       "3        Estagiário                     Analista de Dados/Data Analyst   \n",
       "4        Estagiário  Desenvolvedor/ Engenheiro de Software/ Analist...   \n",
       "\n",
       "                   faixa_salarial                 tempo_experiencia_dados  \\\n",
       "0  de R$ 1.001/mês a R$ 2.000/mês                           de 1 a 2 anos   \n",
       "1           Menos de R$ 1.000/mês                          Menos de 1 ano   \n",
       "2  de R$ 1.001/mês a R$ 2.000/mês  Não tenho experiência na área de dados   \n",
       "3  de R$ 1.001/mês a R$ 2.000/mês                          Menos de 1 ano   \n",
       "4  de R$ 1.001/mês a R$ 2.000/mês                          Menos de 1 ano   \n",
       "\n",
       "   satisfacao_remuneracao  importancia_salario_escolha_emprego  \\\n",
       "0                     NaN                                  1.0   \n",
       "1                     NaN                                  0.0   \n",
       "2                     1.0                                  1.0   \n",
       "3                     NaN                                  1.0   \n",
       "4                     NaN                                  0.0   \n",
       "\n",
       "   satisfacao_beneficios  importancia_beneficios_escolha_emprego  \n",
       "0                    NaN                                     0.0  \n",
       "1                    NaN                                     0.0  \n",
       "2                    0.0                                     0.0  \n",
       "3                    NaN                                     0.0  \n",
       "4                    NaN                                     0.0  "
      ]
     },
     "execution_count": 9,
     "metadata": {},
     "output_type": "execute_result"
    }
   ],
   "source": [
    "# Visão geral dos dados\n",
    "print(\"\\n🔍 Primeiras 5 linhas:\")\n",
    "df.head()"
   ]
  },
  {
   "cell_type": "code",
   "execution_count": 10,
   "metadata": {},
   "outputs": [
    {
     "name": "stdout",
     "output_type": "stream",
     "text": [
      "📋 Informações básicas do dataset:\n",
      "==================================================\n",
      "<class 'pandas.core.frame.DataFrame'>\n",
      "RangeIndex: 4863 entries, 0 to 4862\n",
      "Data columns (total 17 columns):\n",
      " #   Column                                  Non-Null Count  Dtype  \n",
      "---  ------                                  --------------  -----  \n",
      " 0   faixa_etaria                            4863 non-null   object \n",
      " 1   genero                                  4863 non-null   object \n",
      " 2   etnia                                   4863 non-null   object \n",
      " 3   idade                                   4863 non-null   int64  \n",
      " 4   pcd                                     4863 non-null   object \n",
      " 5   xp_profissional_prejudicada             2424 non-null   object \n",
      " 6   uf_residencia                           4733 non-null   object \n",
      " 7   nivel_ensino                            4863 non-null   object \n",
      " 8   area_formacao                           4782 non-null   object \n",
      " 9   situacao_trabalho                       4863 non-null   object \n",
      " 10  cargo_atual                             3818 non-null   object \n",
      " 11  faixa_salarial                          4863 non-null   object \n",
      " 12  tempo_experiencia_dados                 4863 non-null   object \n",
      " 13  satisfacao_remuneracao                  1527 non-null   float64\n",
      " 14  importancia_salario_escolha_emprego     4863 non-null   float64\n",
      " 15  satisfacao_beneficios                   1527 non-null   float64\n",
      " 16  importancia_beneficios_escolha_emprego  4863 non-null   float64\n",
      "dtypes: float64(4), int64(1), object(12)\n",
      "memory usage: 646.0+ KB\n"
     ]
    }
   ],
   "source": [
    "# Informações básicas sobre o dataset\n",
    "print(\"📋 Informações básicas do dataset:\")\n",
    "print(\"=\" * 50)\n",
    "df.info()"
   ]
  },
  {
   "cell_type": "code",
   "execution_count": 11,
   "metadata": {
    "scrolled": true
   },
   "outputs": [
    {
     "name": "stdout",
     "output_type": "stream",
     "text": [
      "\n",
      "📊 Estatísticas descritivas das colunas numéricas:\n",
      "==================================================\n"
     ]
    },
    {
     "data": {
      "text/html": [
       "<div>\n",
       "<style scoped>\n",
       "    .dataframe tbody tr th:only-of-type {\n",
       "        vertical-align: middle;\n",
       "    }\n",
       "\n",
       "    .dataframe tbody tr th {\n",
       "        vertical-align: top;\n",
       "    }\n",
       "\n",
       "    .dataframe thead th {\n",
       "        text-align: right;\n",
       "    }\n",
       "</style>\n",
       "<table border=\"1\" class=\"dataframe\">\n",
       "  <thead>\n",
       "    <tr style=\"text-align: right;\">\n",
       "      <th></th>\n",
       "      <th>idade</th>\n",
       "      <th>satisfacao_remuneracao</th>\n",
       "      <th>importancia_salario_escolha_emprego</th>\n",
       "      <th>satisfacao_beneficios</th>\n",
       "      <th>importancia_beneficios_escolha_emprego</th>\n",
       "    </tr>\n",
       "  </thead>\n",
       "  <tbody>\n",
       "    <tr>\n",
       "      <th>count</th>\n",
       "      <td>4863.000000</td>\n",
       "      <td>1527.000000</td>\n",
       "      <td>4863.000000</td>\n",
       "      <td>1527.000000</td>\n",
       "      <td>4863.000000</td>\n",
       "    </tr>\n",
       "    <tr>\n",
       "      <th>mean</th>\n",
       "      <td>32.334362</td>\n",
       "      <td>0.445972</td>\n",
       "      <td>0.810405</td>\n",
       "      <td>0.170923</td>\n",
       "      <td>0.254164</td>\n",
       "    </tr>\n",
       "    <tr>\n",
       "      <th>std</th>\n",
       "      <td>7.185878</td>\n",
       "      <td>0.497235</td>\n",
       "      <td>0.392021</td>\n",
       "      <td>0.376565</td>\n",
       "      <td>0.435435</td>\n",
       "    </tr>\n",
       "    <tr>\n",
       "      <th>min</th>\n",
       "      <td>18.000000</td>\n",
       "      <td>0.000000</td>\n",
       "      <td>0.000000</td>\n",
       "      <td>0.000000</td>\n",
       "      <td>0.000000</td>\n",
       "    </tr>\n",
       "    <tr>\n",
       "      <th>25%</th>\n",
       "      <td>27.000000</td>\n",
       "      <td>0.000000</td>\n",
       "      <td>1.000000</td>\n",
       "      <td>0.000000</td>\n",
       "      <td>0.000000</td>\n",
       "    </tr>\n",
       "    <tr>\n",
       "      <th>50%</th>\n",
       "      <td>31.000000</td>\n",
       "      <td>0.000000</td>\n",
       "      <td>1.000000</td>\n",
       "      <td>0.000000</td>\n",
       "      <td>0.000000</td>\n",
       "    </tr>\n",
       "    <tr>\n",
       "      <th>75%</th>\n",
       "      <td>36.000000</td>\n",
       "      <td>1.000000</td>\n",
       "      <td>1.000000</td>\n",
       "      <td>0.000000</td>\n",
       "      <td>1.000000</td>\n",
       "    </tr>\n",
       "    <tr>\n",
       "      <th>max</th>\n",
       "      <td>68.000000</td>\n",
       "      <td>1.000000</td>\n",
       "      <td>1.000000</td>\n",
       "      <td>1.000000</td>\n",
       "      <td>1.000000</td>\n",
       "    </tr>\n",
       "  </tbody>\n",
       "</table>\n",
       "</div>"
      ],
      "text/plain": [
       "             idade  satisfacao_remuneracao  \\\n",
       "count  4863.000000             1527.000000   \n",
       "mean     32.334362                0.445972   \n",
       "std       7.185878                0.497235   \n",
       "min      18.000000                0.000000   \n",
       "25%      27.000000                0.000000   \n",
       "50%      31.000000                0.000000   \n",
       "75%      36.000000                1.000000   \n",
       "max      68.000000                1.000000   \n",
       "\n",
       "       importancia_salario_escolha_emprego  satisfacao_beneficios  \\\n",
       "count                          4863.000000            1527.000000   \n",
       "mean                              0.810405               0.170923   \n",
       "std                               0.392021               0.376565   \n",
       "min                               0.000000               0.000000   \n",
       "25%                               1.000000               0.000000   \n",
       "50%                               1.000000               0.000000   \n",
       "75%                               1.000000               0.000000   \n",
       "max                               1.000000               1.000000   \n",
       "\n",
       "       importancia_beneficios_escolha_emprego  \n",
       "count                             4863.000000  \n",
       "mean                                 0.254164  \n",
       "std                                  0.435435  \n",
       "min                                  0.000000  \n",
       "25%                                  0.000000  \n",
       "50%                                  0.000000  \n",
       "75%                                  1.000000  \n",
       "max                                  1.000000  "
      ]
     },
     "execution_count": 11,
     "metadata": {},
     "output_type": "execute_result"
    }
   ],
   "source": [
    "print(\"\\n📊 Estatísticas descritivas das colunas numéricas:\")\n",
    "print(\"=\" * 50)\n",
    "df.describe() # Esse método é animal! Já traz um monte de estatísticas básicas"
   ]
  },
  {
   "cell_type": "markdown",
   "metadata": {
    "vscode": {
     "languageId": "raw"
    }
   },
   "source": [
    "## 3. Preparação dos Dados para Análise\n"
   ]
  },
  {
   "cell_type": "code",
   "execution_count": 12,
   "metadata": {},
   "outputs": [
    {
     "name": "stdout",
     "output_type": "stream",
     "text": [
      "✅ Coluna 'salario_medio' criada com sucesso!\n",
      "   • Valores únicos: 13\n",
      "   • Valores não nulos: 4,863\n",
      "   • Salário médio geral: R$ 12135.10\n",
      "   • Salário mediano: R$ 10000.00\n"
     ]
    }
   ],
   "source": [
    "# Criando uma função para extrair valores numéricos das faixas salariais\n",
    "def extrair_valor_medio_salario(faixa_salarial):\n",
    "    \"\"\"Extrai o valor médio de uma faixa salarial em reais\"\"\"\n",
    "    if pd.isna(faixa_salarial):\n",
    "        return np.nan\n",
    "    \n",
    "    # Mapeamento das faixas salariais\n",
    "    mapeamento = {\n",
    "        'Menos de R$ 1.000/mês': 500,\n",
    "        'de R$ 1.001/mês a R$ 2.000/mês': 1500,\n",
    "        'de R$ 2.001/mês a R$ 3.000/mês': 2500,\n",
    "        'de R$ 3.001/mês a R$ 4.000/mês': 3500,\n",
    "        'de R$ 4.001/mês a R$ 6.000/mês': 5000,\n",
    "        'de R$ 6.001/mês a R$ 8.000/mês': 7000,\n",
    "        'de R$ 8.001/mês a R$ 12.000/mês': 10000,\n",
    "        'de R$ 12.001/mês a R$ 16.000/mês': 14000,\n",
    "        'de R$ 16.001/mês a R$ 20.000/mês': 18000,\n",
    "        'de R$ 20.001/mês a R$ 25.000/mês': 22500,\n",
    "        'de R$ 25.001/mês a R$ 30.000/mês': 27500,\n",
    "        'de R$ 30.001/mês a R$ 40.000/mês': 35000,\n",
    "        'Acima de R$ 40.001/mês': 50000  # Valor estimado\n",
    "    }\n",
    "    \n",
    "    return mapeamento.get(faixa_salarial, np.nan)\n",
    "\n",
    "# Aplicando a função para criar uma coluna numérica de salário\n",
    "df['salario_medio'] = df['faixa_salarial'].apply(extrair_valor_medio_salario)\n",
    "\n",
    "print(\"✅ Coluna 'salario_medio' criada com sucesso!\")\n",
    "print(f\"   • Valores únicos: {df['salario_medio'].nunique()}\")\n",
    "print(f\"   • Valores não nulos: {df['salario_medio'].notna().sum():,}\")\n",
    "print(f\"   • Salário médio geral: R$ {df['salario_medio'].mean():.2f}\")\n",
    "print(f\"   • Salário mediano: R$ {df['salario_medio'].median():.2f}\")\n"
   ]
  },
  {
   "cell_type": "code",
   "execution_count": 13,
   "metadata": {},
   "outputs": [],
   "source": [
    "# Criando ordem para as faixas salariais\n",
    "ordem_faixas = [\n",
    "    'Menos de R$ 1.000/mês',\n",
    "    'de R$ 1.001/mês a R$ 2.000/mês',\n",
    "    'de R$ 2.001/mês a R$ 3.000/mês',\n",
    "    'de R$ 3.001/mês a R$ 4.000/mês',\n",
    "    'de R$ 4.001/mês a R$ 6.000/mês',\n",
    "    'de R$ 6.001/mês a R$ 8.000/mês',\n",
    "    'de R$ 8.001/mês a R$ 12.000/mês',\n",
    "    'de R$ 12.001/mês a R$ 16.000/mês',\n",
    "    'de R$ 16.001/mês a R$ 20.000/mês',\n",
    "    'de R$ 20.001/mês a R$ 25.000/mês',\n",
    "    'de R$ 25.001/mês a R$ 30.000/mês',\n",
    "    'de R$ 30.001/mês a R$ 40.000/mês',\n",
    "    'Acima de R$ 40.001/mês'\n",
    "]"
   ]
  },
  {
   "cell_type": "code",
   "execution_count": 14,
   "metadata": {},
   "outputs": [
    {
     "name": "stdout",
     "output_type": "stream",
     "text": [
      "✅ Preparação dos dados concluída!\n",
      "   • Faixas salariais ordenadas: 13\n",
      "   • Labels curtos criados para visualizações\n"
     ]
    }
   ],
   "source": [
    "# Convertendo para categorical com ordem\n",
    "df['faixa_salarial'] = pd.Categorical(df['faixa_salarial'], categories=ordem_faixas, ordered=True)\n",
    "\n",
    "# Criando labels mais curtos para visualizações\n",
    "labels_curtos = {\n",
    "    'Menos de R$ 1.000/mês': '<R$ 1K',\n",
    "    'de R$ 1.001/mês a R$ 2.000/mês': 'R$ 1-2K',\n",
    "    'de R$ 2.001/mês a R$ 3.000/mês': 'R$ 2-3K',\n",
    "    'de R$ 3.001/mês a R$ 4.000/mês': 'R$ 3-4K',\n",
    "    'de R$ 4.001/mês a R$ 6.000/mês': 'R$ 4-6K',\n",
    "    'de R$ 6.001/mês a R$ 8.000/mês': 'R$ 6-8K',\n",
    "    'de R$ 8.001/mês a R$ 12.000/mês': 'R$ 8-12K',\n",
    "    'de R$ 12.001/mês a R$ 16.000/mês': 'R$ 12-16K',\n",
    "    'de R$ 16.001/mês a R$ 20.000/mês': 'R$ 16-20K',\n",
    "    'de R$ 20.001/mês a R$ 25.000/mês': 'R$ 20-25K',\n",
    "    'de R$ 25.001/mês a R$ 30.000/mês': 'R$ 25-30K',\n",
    "    'de R$ 30.001/mês a R$ 40.000/mês': 'R$ 30-40K',\n",
    "    'Acima de R$ 40.001/mês': '>R$ 40K'\n",
    "}\n",
    "\n",
    "df['faixa_salarial_curta'] = df['faixa_salarial'].map(labels_curtos)\n",
    "\n",
    "print(\"✅ Preparação dos dados concluída!\")\n",
    "print(f\"   • Faixas salariais ordenadas: {len(ordem_faixas)}\")\n",
    "print(f\"   • Labels curtos criados para visualizações\")"
   ]
  },
  {
   "cell_type": "code",
   "execution_count": 15,
   "metadata": {},
   "outputs": [
    {
     "data": {
      "text/plain": [
       "0    R$ 1-2K\n",
       "1     <R$ 1K\n",
       "2    R$ 1-2K\n",
       "3    R$ 1-2K\n",
       "4    R$ 1-2K\n",
       "Name: faixa_salarial_curta, dtype: category\n",
       "Categories (13, object): ['<R$ 1K' < 'R$ 1-2K' < 'R$ 2-3K' < 'R$ 3-4K' ... 'R$ 20-25K' < 'R$ 25-30K' < 'R$ 30-40K' < '>R$ 40K']"
      ]
     },
     "execution_count": 15,
     "metadata": {},
     "output_type": "execute_result"
    }
   ],
   "source": [
    "df['faixa_salarial_curta'].head()"
   ]
  },
  {
   "cell_type": "markdown",
   "metadata": {
    "vscode": {
     "languageId": "raw"
    }
   },
   "source": [
    "## 4. Análise Univariada - Distribuições\n",
    "\n",
    "### 4.1 Distribuição Salarial Geral\n"
   ]
  },
  {
   "cell_type": "code",
   "execution_count": 16,
   "metadata": {},
   "outputs": [
    {
     "data": {
      "text/plain": [
       "faixa_salarial\n",
       "de R$ 8.001/mês a R$ 12.000/mês     1080\n",
       "de R$ 12.001/mês a R$ 16.000/mês     716\n",
       "de R$ 6.001/mês a R$ 8.000/mês       656\n",
       "de R$ 4.001/mês a R$ 6.000/mês       593\n",
       "de R$ 16.001/mês a R$ 20.000/mês     456\n",
       "de R$ 3.001/mês a R$ 4.000/mês       270\n",
       "de R$ 20.001/mês a R$ 25.000/mês     246\n",
       "de R$ 2.001/mês a R$ 3.000/mês       237\n",
       "de R$ 25.001/mês a R$ 30.000/mês     159\n",
       "de R$ 30.001/mês a R$ 40.000/mês     158\n",
       "de R$ 1.001/mês a R$ 2.000/mês       155\n",
       "Acima de R$ 40.001/mês               104\n",
       "Menos de R$ 1.000/mês                 33\n",
       "Name: count, dtype: int64"
      ]
     },
     "execution_count": 16,
     "metadata": {},
     "output_type": "execute_result"
    }
   ],
   "source": [
    "# Usando o value counts pra começar a brincadeira\n",
    "df['faixa_salarial'].value_counts()"
   ]
  },
  {
   "cell_type": "code",
   "execution_count": 17,
   "metadata": {},
   "outputs": [
    {
     "data": {
      "image/png": "[encoded data removed]",
      "text/plain": [
       "<Figure size 2000x800 with 2 Axes>"
      ]
     },
     "metadata": {},
     "output_type": "display_data"
    }
   ],
   "source": [
    "# Gráfico de distribuição salarial - Versão Matplotlib/Seaborn\n",
    "fig, (ax1, ax2) = plt.subplots(1, 2, figsize=(20, 8))\n",
    "\n",
    "# Histograma da distribuição salarial\n",
    "counts = df['faixa_salarial'].value_counts(sort=False)\n",
    "ax1.bar(range(len(counts)), counts.values, color='skyblue', alpha=0.7, edgecolor='navy', linewidth=1)\n",
    "ax1.set_title('📊 Distribuição de Profissionais por Faixa Salarial', fontsize=16, fontweight='bold')\n",
    "ax1.set_xlabel('Faixa Salarial', fontsize=12)\n",
    "ax1.set_ylabel('Quantidade de Profissionais', fontsize=12)\n",
    "ax1.set_xticks(range(len(counts)))\n",
    "ax1.set_xticklabels([labels_curtos[faixa] for faixa in counts.index], rotation=45)\n",
    "ax1.grid(True, alpha=0.3)\n",
    "\n",
    "# Adicionando valores nas barras\n",
    "for i, v in enumerate(counts.values):\n",
    "    ax1.text(i, v + 10, str(v), ha='center', fontweight='bold')\n",
    "\n",
    "# Box plot da distribuição salarial numérica\n",
    "box_data = df['salario_medio'].dropna()\n",
    "ax2.boxplot(box_data, vert=True, patch_artist=True, \n",
    "           boxprops=dict(facecolor='lightcoral', alpha=0.7),\n",
    "           medianprops=dict(color='red', linewidth=2))\n",
    "ax2.set_title('📈 Box Plot - Distribuição Salarial Numérica', fontsize=16, fontweight='bold')\n",
    "ax2.set_ylabel('Salário (R$)', fontsize=12)\n",
    "ax2.grid(True, alpha=0.3)\n",
    "\n",
    "# Adicionando estatísticas no box plot\n",
    "stats_text = f\"Média: R$ {box_data.mean():.0f}\\nMediana: R$ {box_data.median():.0f}\\nDesvio: R$ {box_data.std():.0f}\"\n",
    "ax2.text(1.1, box_data.max() * 0.8, stats_text, fontsize=10, \n",
    "         bbox=dict(boxstyle=\"round,pad=0.3\", facecolor=\"yellow\", alpha=0.7))\n",
    "\n",
    "plt.tight_layout()\n",
    "plt.show()"
   ]
  },
  {
   "cell_type": "code",
   "execution_count": 18,
   "metadata": {},
   "outputs": [
    {
     "name": "stdout",
     "output_type": "stream",
     "text": [
      "📊 ESTATÍSTICAS SALARIAIS DETALHADAS\n",
      "==================================================\n",
      "💰 Salário Médio: R$ 12135.10\n",
      "🎯 Salário Mediano: R$ 10000.00\n",
      "📈 Desvio Padrão: R$ 9408.65\n",
      "⬇️  Salário Mínimo: R$ 500.00\n",
      "⬆️  Salário Máximo: R$ 50000.00\n",
      "📊 Faixa mais comum: de R$ 8.001/mês a R$ 12.000/mês\n",
      "👥 Total de profissionais: 4,863\n"
     ]
    }
   ],
   "source": [
    "# Estatísticas detalhadas\n",
    "print(\"📊 ESTATÍSTICAS SALARIAIS DETALHADAS\")\n",
    "print(\"=\" * 50)\n",
    "print(f\"💰 Salário Médio: R$ {df['salario_medio'].mean():.2f}\")\n",
    "print(f\"🎯 Salário Mediano: R$ {df['salario_medio'].median():.2f}\")\n",
    "print(f\"📈 Desvio Padrão: R$ {df['salario_medio'].std():.2f}\")\n",
    "print(f\"⬇️  Salário Mínimo: R$ {df['salario_medio'].min():.2f}\")\n",
    "print(f\"⬆️  Salário Máximo: R$ {df['salario_medio'].max():.2f}\")\n",
    "print(f\"📊 Faixa mais comum: {df['faixa_salarial'].mode().iloc[0]}\")\n",
    "print(f\"👥 Total de profissionais: {len(df):,}\")"
   ]
  },
  {
   "cell_type": "markdown",
   "metadata": {
    "vscode": {
     "languageId": "raw"
    }
   },
   "source": [
    "## 5. Análise Bivariada - Fatores que Influenciam os Salários\n",
    "\n",
    "### 5.1 Análise Salarial por Gênero\n"
   ]
  },
  {
   "cell_type": "code",
   "execution_count": 19,
   "metadata": {},
   "outputs": [
    {
     "data": {
      "image/png": "[encoded data removed]",
      "text/plain": [
       "<Figure size 2000x800 with 2 Axes>"
      ]
     },
     "metadata": {},
     "output_type": "display_data"
    }
   ],
   "source": [
    "# Análise salarial por gênero\n",
    "fig, (ax1, ax2) = plt.subplots(1, 2, figsize=(20, 8))\n",
    "\n",
    "# Gráfico de boxplot por gênero\n",
    "df_genero = df[df['genero'].isin(['Masculino', 'Feminino'])]  # Focando nos dois gêneros principais\n",
    "sns.boxplot(data=df_genero, x='genero', y='salario_medio', ax=ax1)\n",
    "ax1.set_title('💼 Distribuição Salarial por Gênero', fontsize=16, fontweight='bold')\n",
    "ax1.set_ylabel('Salário (R$)', fontsize=12)\n",
    "ax1.set_xlabel('Gênero', fontsize=12)\n",
    "ax1.grid(True, alpha=0.3)\n",
    "\n",
    "# Gráfico de barras com salário médio por gênero\n",
    "salario_por_genero = df_genero.groupby('genero')['salario_medio'].mean()\n",
    "colors = ['lightgreen', 'lightblue']\n",
    "bars = ax2.bar(salario_por_genero.index, salario_por_genero.values, color=colors, alpha=0.7, edgecolor='black', linewidth=1)\n",
    "ax2.set_title('📊 Salário Médio por Gênero', fontsize=16, fontweight='bold')\n",
    "ax2.set_ylabel('Salário Médio (R$)', fontsize=12)\n",
    "ax2.set_xlabel('Gênero', fontsize=12)\n",
    "ax2.grid(True, alpha=0.3)\n",
    "\n",
    "# Adicionando valores nas barras\n",
    "for i, (genero, valor) in enumerate(salario_por_genero.items()):\n",
    "    ax2.text(i, valor + 200, f'R$ {valor:.0f}', ha='center', fontweight='bold')\n",
    "\n",
    "plt.tight_layout()\n",
    "plt.show()"
   ]
  },
  {
   "cell_type": "code",
   "execution_count": 20,
   "metadata": {},
   "outputs": [
    {
     "name": "stdout",
     "output_type": "stream",
     "text": [
      "📊 ANÁLISE SALARIAL POR GÊNERO\n",
      "==================================================\n",
      "\n",
      "Masculino:\n",
      "  💰 Salário Médio: R$ 12710.54\n",
      "  🎯 Salário Mediano: R$ 10000.00\n",
      "  👥 Total de profissionais: 3,700\n",
      "\n",
      "Feminino:\n",
      "  💰 Salário Médio: R$ 10197.90\n",
      "  🎯 Salário Mediano: R$ 10000.00\n",
      "  👥 Total de profissionais: 1,142\n",
      "\n",
      "⚖️  GAP SALARIAL: 19.8%\n",
      "   (Homens ganham 19.8% a mais que mulheres em média)\n"
     ]
    }
   ],
   "source": [
    "# Estatísticas por gênero\n",
    "print(\"📊 ANÁLISE SALARIAL POR GÊNERO\")\n",
    "print(\"=\" * 50)\n",
    "for genero in ['Masculino', 'Feminino']:\n",
    "    dados_genero = df_genero[df_genero['genero'] == genero]['salario_medio']\n",
    "    print(f\"\\n{genero}:\")\n",
    "    print(f\"  💰 Salário Médio: R$ {dados_genero.mean():.2f}\")\n",
    "    print(f\"  🎯 Salário Mediano: R$ {dados_genero.median():.2f}\")\n",
    "    print(f\"  👥 Total de profissionais: {len(dados_genero):,}\")\n",
    "\n",
    "# Calculando gap salarial\n",
    "gap_salarial = ((salario_por_genero['Masculino'] - salario_por_genero['Feminino']) / salario_por_genero['Masculino']) * 100\n",
    "print(f\"\\n⚖️  GAP SALARIAL: {gap_salarial:.1f}%\")\n",
    "print(f\"   (Homens ganham {gap_salarial:.1f}% a mais que mulheres em média)\")"
   ]
  },
  {
   "cell_type": "markdown",
   "metadata": {
    "vscode": {
     "languageId": "raw"
    }
   },
   "source": [
    "### 5.2 Análise Salarial por Experiência em Dados\n"
   ]
  },
  {
   "cell_type": "code",
   "execution_count": 21,
   "metadata": {},
   "outputs": [
    {
     "data": {
      "text/html": [
       "<div>\n",
       "<style scoped>\n",
       "    .dataframe tbody tr th:only-of-type {\n",
       "        vertical-align: middle;\n",
       "    }\n",
       "\n",
       "    .dataframe tbody tr th {\n",
       "        vertical-align: top;\n",
       "    }\n",
       "\n",
       "    .dataframe thead th {\n",
       "        text-align: right;\n",
       "    }\n",
       "</style>\n",
       "<table border=\"1\" class=\"dataframe\">\n",
       "  <thead>\n",
       "    <tr style=\"text-align: right;\">\n",
       "      <th></th>\n",
       "      <th>faixa_etaria</th>\n",
       "      <th>genero</th>\n",
       "      <th>etnia</th>\n",
       "      <th>idade</th>\n",
       "      <th>pcd</th>\n",
       "      <th>xp_profissional_prejudicada</th>\n",
       "      <th>uf_residencia</th>\n",
       "      <th>nivel_ensino</th>\n",
       "      <th>area_formacao</th>\n",
       "      <th>situacao_trabalho</th>\n",
       "      <th>cargo_atual</th>\n",
       "      <th>faixa_salarial</th>\n",
       "      <th>tempo_experiencia_dados</th>\n",
       "      <th>satisfacao_remuneracao</th>\n",
       "      <th>importancia_salario_escolha_emprego</th>\n",
       "      <th>satisfacao_beneficios</th>\n",
       "      <th>importancia_beneficios_escolha_emprego</th>\n",
       "      <th>salario_medio</th>\n",
       "      <th>faixa_salarial_curta</th>\n",
       "    </tr>\n",
       "  </thead>\n",
       "  <tbody>\n",
       "    <tr>\n",
       "      <th>0</th>\n",
       "      <td>17-21</td>\n",
       "      <td>Masculino</td>\n",
       "      <td>Branca</td>\n",
       "      <td>18</td>\n",
       "      <td>Não</td>\n",
       "      <td>NaN</td>\n",
       "      <td>RS</td>\n",
       "      <td>Estudante de Graduação</td>\n",
       "      <td>Computação / Engenharia de Software / Sistemas...</td>\n",
       "      <td>Estagiário</td>\n",
       "      <td>Analista de Dados/Data Analyst</td>\n",
       "      <td>de R$ 1.001/mês a R$ 2.000/mês</td>\n",
       "      <td>de 1 a 2 anos</td>\n",
       "      <td>NaN</td>\n",
       "      <td>1.0</td>\n",
       "      <td>NaN</td>\n",
       "      <td>0.0</td>\n",
       "      <td>1500</td>\n",
       "      <td>R$ 1-2K</td>\n",
       "    </tr>\n",
       "    <tr>\n",
       "      <th>1</th>\n",
       "      <td>17-21</td>\n",
       "      <td>Masculino</td>\n",
       "      <td>Branca</td>\n",
       "      <td>18</td>\n",
       "      <td>Não</td>\n",
       "      <td>NaN</td>\n",
       "      <td>SC</td>\n",
       "      <td>Estudante de Graduação</td>\n",
       "      <td>Computação / Engenharia de Software / Sistemas...</td>\n",
       "      <td>Estagiário</td>\n",
       "      <td>Analista de BI/BI Analyst</td>\n",
       "      <td>Menos de R$ 1.000/mês</td>\n",
       "      <td>Menos de 1 ano</td>\n",
       "      <td>NaN</td>\n",
       "      <td>0.0</td>\n",
       "      <td>NaN</td>\n",
       "      <td>0.0</td>\n",
       "      <td>500</td>\n",
       "      <td>&lt;R$ 1K</td>\n",
       "    </tr>\n",
       "    <tr>\n",
       "      <th>2</th>\n",
       "      <td>17-21</td>\n",
       "      <td>Masculino</td>\n",
       "      <td>Parda</td>\n",
       "      <td>18</td>\n",
       "      <td>Não</td>\n",
       "      <td>Não acredito que minha experiência profissiona...</td>\n",
       "      <td>SP</td>\n",
       "      <td>Estudante de Graduação</td>\n",
       "      <td>Computação / Engenharia de Software / Sistemas...</td>\n",
       "      <td>Empregado (CLT)</td>\n",
       "      <td>Outra Opção</td>\n",
       "      <td>de R$ 1.001/mês a R$ 2.000/mês</td>\n",
       "      <td>Não tenho experiência na área de dados</td>\n",
       "      <td>1.0</td>\n",
       "      <td>1.0</td>\n",
       "      <td>0.0</td>\n",
       "      <td>0.0</td>\n",
       "      <td>1500</td>\n",
       "      <td>R$ 1-2K</td>\n",
       "    </tr>\n",
       "    <tr>\n",
       "      <th>3</th>\n",
       "      <td>17-21</td>\n",
       "      <td>Masculino</td>\n",
       "      <td>Branca</td>\n",
       "      <td>18</td>\n",
       "      <td>Não</td>\n",
       "      <td>NaN</td>\n",
       "      <td>SP</td>\n",
       "      <td>Estudante de Graduação</td>\n",
       "      <td>Computação / Engenharia de Software / Sistemas...</td>\n",
       "      <td>Estagiário</td>\n",
       "      <td>Analista de Dados/Data Analyst</td>\n",
       "      <td>de R$ 1.001/mês a R$ 2.000/mês</td>\n",
       "      <td>Menos de 1 ano</td>\n",
       "      <td>NaN</td>\n",
       "      <td>1.0</td>\n",
       "      <td>NaN</td>\n",
       "      <td>0.0</td>\n",
       "      <td>1500</td>\n",
       "      <td>R$ 1-2K</td>\n",
       "    </tr>\n",
       "    <tr>\n",
       "      <th>4</th>\n",
       "      <td>17-21</td>\n",
       "      <td>Masculino</td>\n",
       "      <td>Branca</td>\n",
       "      <td>18</td>\n",
       "      <td>Não</td>\n",
       "      <td>NaN</td>\n",
       "      <td>SP</td>\n",
       "      <td>Estudante de Graduação</td>\n",
       "      <td>Computação / Engenharia de Software / Sistemas...</td>\n",
       "      <td>Estagiário</td>\n",
       "      <td>Desenvolvedor/ Engenheiro de Software/ Analist...</td>\n",
       "      <td>de R$ 1.001/mês a R$ 2.000/mês</td>\n",
       "      <td>Menos de 1 ano</td>\n",
       "      <td>NaN</td>\n",
       "      <td>0.0</td>\n",
       "      <td>NaN</td>\n",
       "      <td>0.0</td>\n",
       "      <td>1500</td>\n",
       "      <td>R$ 1-2K</td>\n",
       "    </tr>\n",
       "  </tbody>\n",
       "</table>\n",
       "</div>"
      ],
      "text/plain": [
       "  faixa_etaria     genero   etnia  idade  pcd  \\\n",
       "0        17-21  Masculino  Branca     18  Não   \n",
       "1        17-21  Masculino  Branca     18  Não   \n",
       "2        17-21  Masculino   Parda     18  Não   \n",
       "3        17-21  Masculino  Branca     18  Não   \n",
       "4        17-21  Masculino  Branca     18  Não   \n",
       "\n",
       "                         xp_profissional_prejudicada uf_residencia  \\\n",
       "0                                                NaN            RS   \n",
       "1                                                NaN            SC   \n",
       "2  Não acredito que minha experiência profissiona...            SP   \n",
       "3                                                NaN            SP   \n",
       "4                                                NaN            SP   \n",
       "\n",
       "             nivel_ensino                                      area_formacao  \\\n",
       "0  Estudante de Graduação  Computação / Engenharia de Software / Sistemas...   \n",
       "1  Estudante de Graduação  Computação / Engenharia de Software / Sistemas...   \n",
       "2  Estudante de Graduação  Computação / Engenharia de Software / Sistemas...   \n",
       "3  Estudante de Graduação  Computação / Engenharia de Software / Sistemas...   \n",
       "4  Estudante de Graduação  Computação / Engenharia de Software / Sistemas...   \n",
       "\n",
       "  situacao_trabalho                                        cargo_atual  \\\n",
       "0        Estagiário                     Analista de Dados/Data Analyst   \n",
       "1        Estagiário                          Analista de BI/BI Analyst   \n",
       "2   Empregado (CLT)                                        Outra Opção   \n",
       "3        Estagiário                     Analista de Dados/Data Analyst   \n",
       "4        Estagiário  Desenvolvedor/ Engenheiro de Software/ Analist...   \n",
       "\n",
       "                   faixa_salarial                 tempo_experiencia_dados  \\\n",
       "0  de R$ 1.001/mês a R$ 2.000/mês                           de 1 a 2 anos   \n",
       "1           Menos de R$ 1.000/mês                          Menos de 1 ano   \n",
       "2  de R$ 1.001/mês a R$ 2.000/mês  Não tenho experiência na área de dados   \n",
       "3  de R$ 1.001/mês a R$ 2.000/mês                          Menos de 1 ano   \n",
       "4  de R$ 1.001/mês a R$ 2.000/mês                          Menos de 1 ano   \n",
       "\n",
       "   satisfacao_remuneracao  importancia_salario_escolha_emprego  \\\n",
       "0                     NaN                                  1.0   \n",
       "1                     NaN                                  0.0   \n",
       "2                     1.0                                  1.0   \n",
       "3                     NaN                                  1.0   \n",
       "4                     NaN                                  0.0   \n",
       "\n",
       "   satisfacao_beneficios  importancia_beneficios_escolha_emprego  \\\n",
       "0                    NaN                                     0.0   \n",
       "1                    NaN                                     0.0   \n",
       "2                    0.0                                     0.0   \n",
       "3                    NaN                                     0.0   \n",
       "4                    NaN                                     0.0   \n",
       "\n",
       "   salario_medio faixa_salarial_curta  \n",
       "0           1500              R$ 1-2K  \n",
       "1            500               <R$ 1K  \n",
       "2           1500              R$ 1-2K  \n",
       "3           1500              R$ 1-2K  \n",
       "4           1500              R$ 1-2K  "
      ]
     },
     "execution_count": 21,
     "metadata": {},
     "output_type": "execute_result"
    }
   ],
   "source": [
    "# Análise salarial por experiência\n",
    "ordem_experiencia = [\n",
    "    'Não tenho experiência na área de dados',\n",
    "    'Menos de 1 ano',\n",
    "    'de 1 a 2 anos',\n",
    "    'de 3 a 4 anos',\n",
    "    'de 5 a 6 anos',\n",
    "    'de 7 a 10 anos',\n",
    "    'Mais de 10 anos'\n",
    "]\n",
    "\n",
    "# Filtrando dados válidos\n",
    "df_experiencia = df[df['tempo_experiencia_dados'].notna()] # outra forma df.loc[~df['tempo_experiencia_dados'].isna()]\n",
    "df_experiencia = df_experiencia[df_experiencia['tempo_experiencia_dados'].isin(ordem_experiencia)]\n",
    "\n",
    "df_experiencia.head()"
   ]
  },
  {
   "cell_type": "code",
   "execution_count": 22,
   "metadata": {},
   "outputs": [
    {
     "data": {
      "image/png": "[encoded data removed]",
      "text/plain": [
       "<Figure size 1600x1200 with 2 Axes>"
      ]
     },
     "metadata": {},
     "output_type": "display_data"
    }
   ],
   "source": [
    "# Criando gráfico\n",
    "fig, (ax1, ax2) = plt.subplots(2, 1, figsize=(16, 12))\n",
    "\n",
    "# Gráfico de boxplot por experiência\n",
    "sns.boxplot(data=df_experiencia, x='tempo_experiencia_dados', y='salario_medio', ax=ax1, order=ordem_experiencia)\n",
    "ax1.set_title('📈 Distribuição Salarial por Tempo de Experiência', fontsize=16, fontweight='bold')\n",
    "ax1.set_ylabel('Salário (R$)', fontsize=12)\n",
    "ax1.set_xlabel('Tempo de Experiência', fontsize=12)\n",
    "ax1.tick_params(axis='x', rotation=45)\n",
    "ax1.grid(True, alpha=0.3)\n",
    "\n",
    "# Gráfico de linha com progressão salarial\n",
    "salario_por_experiencia = df_experiencia.groupby('tempo_experiencia_dados')['salario_medio'].mean().reindex(ordem_experiencia)\n",
    "ax2.plot(range(len(salario_por_experiencia)), salario_por_experiencia.values, marker='o', linewidth=3, markersize=8, color='darkgreen')\n",
    "ax2.set_title('📊 Evolução do Salário Médio por Experiência', fontsize=16, fontweight='bold')\n",
    "ax2.set_ylabel('Salário Médio (R$)', fontsize=12)\n",
    "ax2.set_xlabel('Tempo de Experiência', fontsize=12)\n",
    "ax2.set_xticks(range(len(salario_por_experiencia)))\n",
    "ax2.set_xticklabels(ordem_experiencia, rotation=45, ha='right')\n",
    "ax2.grid(True, alpha=0.3)\n",
    "\n",
    "# Adicionando valores nos pontos\n",
    "for i, valor in enumerate(salario_por_experiencia.values):\n",
    "    if not np.isnan(valor):\n",
    "        ax2.text(i, valor + 500, f'R$ {valor:.0f}', ha='center', fontweight='bold')\n",
    "\n",
    "plt.tight_layout()\n",
    "plt.show()"
   ]
  },
  {
   "cell_type": "code",
   "execution_count": 23,
   "metadata": {},
   "outputs": [
    {
     "name": "stdout",
     "output_type": "stream",
     "text": [
      "📊 ANÁLISE SALARIAL POR EXPERIÊNCIA\n",
      "============================================================\n",
      "\n",
      "Não tenho experiência na área de dados:\n",
      "  💰 Salário Médio: R$ 6563.04\n",
      "  🎯 Salário Mediano: R$ 5000.00\n",
      "  👥 Total de profissionais: 230\n",
      "\n",
      "Menos de 1 ano:\n",
      "  💰 Salário Médio: R$ 5069.36\n",
      "  🎯 Salário Mediano: R$ 3500.00\n",
      "  👥 Total de profissionais: 346\n",
      "\n",
      "de 1 a 2 anos:\n",
      "  💰 Salário Médio: R$ 6673.73\n",
      "  🎯 Salário Mediano: R$ 5000.00\n",
      "  👥 Total de profissionais: 944\n",
      "\n",
      "de 3 a 4 anos:\n",
      "  💰 Salário Médio: R$ 10351.73\n",
      "  🎯 Salário Mediano: R$ 10000.00\n",
      "  👥 Total de profissionais: 1,386\n",
      "\n",
      "de 5 a 6 anos:\n",
      "  💰 Salário Médio: R$ 15310.84\n",
      "  🎯 Salário Mediano: R$ 14000.00\n",
      "  👥 Total de profissionais: 830\n",
      "\n",
      "de 7 a 10 anos:\n",
      "  💰 Salário Médio: R$ 18247.23\n",
      "  🎯 Salário Mediano: R$ 14000.00\n",
      "  👥 Total de profissionais: 542\n",
      "\n",
      "Mais de 10 anos:\n",
      "  💰 Salário Médio: R$ 21374.36\n",
      "  🎯 Salário Mediano: R$ 18000.00\n",
      "  👥 Total de profissionais: 585\n",
      "\n",
      "📈 CRESCIMENTO SALARIAL: 225.7%\n",
      "   (De iniciante para experiente: crescimento de 225.7%)\n"
     ]
    }
   ],
   "source": [
    "# Estatísticas detalhadas por experiência\n",
    "print(\"📊 ANÁLISE SALARIAL POR EXPERIÊNCIA\")\n",
    "print(\"=\" * 60)\n",
    "for exp in ordem_experiencia:\n",
    "    dados_exp = df_experiencia[df_experiencia['tempo_experiencia_dados'] == exp]['salario_medio']\n",
    "    if len(dados_exp) > 0:\n",
    "        print(f\"\\n{exp}:\")\n",
    "        print(f\"  💰 Salário Médio: R$ {dados_exp.mean():.2f}\")\n",
    "        print(f\"  🎯 Salário Mediano: R$ {dados_exp.median():.2f}\")\n",
    "        print(f\"  👥 Total de profissionais: {len(dados_exp):,}\")\n",
    "\n",
    "# Calculando crescimento salarial\n",
    "crescimento = ((salario_por_experiencia.iloc[-1] - salario_por_experiencia.iloc[0]) / salario_por_experiencia.iloc[0]) * 100\n",
    "print(f\"\\n📈 CRESCIMENTO SALARIAL: {crescimento:.1f}%\")\n",
    "print(f\"   (De iniciante para experiente: crescimento de {crescimento:.1f}%)\")"
   ]
  },
  {
   "cell_type": "markdown",
   "metadata": {
    "vscode": {
     "languageId": "raw"
    }
   },
   "source": [
    "### 5.3 Análise Salarial por Cargo\n"
   ]
  },
  {
   "cell_type": "code",
   "execution_count": 24,
   "metadata": {},
   "outputs": [
    {
     "data": {
      "text/plain": [
       "cargo_atual\n",
       "Analista de Dados/Data Analyst                                 957\n",
       "Cientista de Dados/Data Scientist                              687\n",
       "Engenheiro de Dados/Data Engineer/Data Architect               613\n",
       "Analista de BI/BI Analyst                                      396\n",
       "Outra Opção                                                    254\n",
       "Analytics Engineer                                             228\n",
       "Analista de Negócios/Business Analyst                          184\n",
       "Desenvolvedor/ Engenheiro de Software/ Analista de Sistemas    122\n",
       "Engenheiro de Machine Learning/ML Engineer/AI Engineer         103\n",
       "Data Product Manager/ Product Manager (PM/APM/DPM/GPM/PO)       80\n",
       "Analista de Suporte/Analista Técnico                            79\n",
       "Arquiteto de Dados/Data Architect                               48\n",
       "Outras Engenharias (não inclui dev)                             29\n",
       "Professor/Pesquisador                                           21\n",
       "Estatístico                                                     17\n",
       "Name: count, dtype: int64"
      ]
     },
     "execution_count": 24,
     "metadata": {},
     "output_type": "execute_result"
    }
   ],
   "source": [
    "df['cargo_atual'].value_counts()"
   ]
  },
  {
   "cell_type": "code",
   "execution_count": 25,
   "metadata": {},
   "outputs": [
    {
     "data": {
      "text/html": [
       "<div>\n",
       "<style scoped>\n",
       "    .dataframe tbody tr th:only-of-type {\n",
       "        vertical-align: middle;\n",
       "    }\n",
       "\n",
       "    .dataframe tbody tr th {\n",
       "        vertical-align: top;\n",
       "    }\n",
       "\n",
       "    .dataframe thead th {\n",
       "        text-align: right;\n",
       "    }\n",
       "</style>\n",
       "<table border=\"1\" class=\"dataframe\">\n",
       "  <thead>\n",
       "    <tr style=\"text-align: right;\">\n",
       "      <th></th>\n",
       "      <th>mean</th>\n",
       "      <th>median</th>\n",
       "      <th>count</th>\n",
       "    </tr>\n",
       "    <tr>\n",
       "      <th>cargo_atual</th>\n",
       "      <th></th>\n",
       "      <th></th>\n",
       "      <th></th>\n",
       "    </tr>\n",
       "  </thead>\n",
       "  <tbody>\n",
       "    <tr>\n",
       "      <th>Engenheiro de Machine Learning/ML Engineer/AI Engineer</th>\n",
       "      <td>16082.52</td>\n",
       "      <td>14000.0</td>\n",
       "      <td>103</td>\n",
       "    </tr>\n",
       "    <tr>\n",
       "      <th>Engenheiro de Dados/Data Engineer/Data Architect</th>\n",
       "      <td>12990.21</td>\n",
       "      <td>10000.0</td>\n",
       "      <td>613</td>\n",
       "    </tr>\n",
       "    <tr>\n",
       "      <th>Cientista de Dados/Data Scientist</th>\n",
       "      <td>11909.02</td>\n",
       "      <td>10000.0</td>\n",
       "      <td>687</td>\n",
       "    </tr>\n",
       "    <tr>\n",
       "      <th>Analytics Engineer</th>\n",
       "      <td>10872.81</td>\n",
       "      <td>10000.0</td>\n",
       "      <td>228</td>\n",
       "    </tr>\n",
       "    <tr>\n",
       "      <th>Analista de Dados/Data Analyst</th>\n",
       "      <td>8017.76</td>\n",
       "      <td>7000.0</td>\n",
       "      <td>957</td>\n",
       "    </tr>\n",
       "  </tbody>\n",
       "</table>\n",
       "</div>"
      ],
      "text/plain": [
       "                                                        mean   median  count\n",
       "cargo_atual                                                                 \n",
       "Engenheiro de Machine Learning/ML Engineer/AI E...  16082.52  14000.0    103\n",
       "Engenheiro de Dados/Data Engineer/Data Architect    12990.21  10000.0    613\n",
       "Cientista de Dados/Data Scientist                   11909.02  10000.0    687\n",
       "Analytics Engineer                                  10872.81  10000.0    228\n",
       "Analista de Dados/Data Analyst                       8017.76   7000.0    957"
      ]
     },
     "execution_count": 25,
     "metadata": {},
     "output_type": "execute_result"
    }
   ],
   "source": [
    "# Análise salarial por cargo\n",
    "cargos_principais = [\n",
    "    'Analista de Dados/Data Analyst',\n",
    "    'Cientista de Dados/Data Scientist',\n",
    "    'Engenheiro de Dados/Data Engineer/Data Architect',\n",
    "    'Analista de BI/BI Analyst',\n",
    "    'Analytics Engineer',\n",
    "    'Engenheiro de Machine Learning/ML Engineer/AI Engineer'\n",
    "]\n",
    "\n",
    "# Filtrando dados válidos\n",
    "df_cargo = df[df['cargo_atual'].notna()]\n",
    "df_cargo = df_cargo[df_cargo['cargo_atual'].isin(cargos_principais)]\n",
    "\n",
    "# Calculando estatísticas por cargo\n",
    "salario_por_cargo = df_cargo.groupby('cargo_atual')['salario_medio'].agg(['mean', 'median', 'count']).round(2)\n",
    "salario_por_cargo = salario_por_cargo.sort_values('mean', ascending=False)\n",
    "\n",
    "salario_por_cargo.head()"
   ]
  },
  {
   "cell_type": "code",
   "execution_count": 26,
   "metadata": {},
   "outputs": [
    {
     "data": {
      "text/html": [
       "<div>\n",
       "<style scoped>\n",
       "    .dataframe tbody tr th:only-of-type {\n",
       "        vertical-align: middle;\n",
       "    }\n",
       "\n",
       "    .dataframe tbody tr th {\n",
       "        vertical-align: top;\n",
       "    }\n",
       "\n",
       "    .dataframe thead th {\n",
       "        text-align: right;\n",
       "    }\n",
       "</style>\n",
       "<table border=\"1\" class=\"dataframe\">\n",
       "  <thead>\n",
       "    <tr style=\"text-align: right;\">\n",
       "      <th></th>\n",
       "      <th>faixa_etaria</th>\n",
       "      <th>genero</th>\n",
       "      <th>etnia</th>\n",
       "      <th>idade</th>\n",
       "      <th>pcd</th>\n",
       "      <th>xp_profissional_prejudicada</th>\n",
       "      <th>uf_residencia</th>\n",
       "      <th>nivel_ensino</th>\n",
       "      <th>area_formacao</th>\n",
       "      <th>situacao_trabalho</th>\n",
       "      <th>cargo_atual</th>\n",
       "      <th>faixa_salarial</th>\n",
       "      <th>tempo_experiencia_dados</th>\n",
       "      <th>satisfacao_remuneracao</th>\n",
       "      <th>importancia_salario_escolha_emprego</th>\n",
       "      <th>satisfacao_beneficios</th>\n",
       "      <th>importancia_beneficios_escolha_emprego</th>\n",
       "      <th>salario_medio</th>\n",
       "      <th>faixa_salarial_curta</th>\n",
       "    </tr>\n",
       "  </thead>\n",
       "  <tbody>\n",
       "    <tr>\n",
       "      <th>0</th>\n",
       "      <td>17-21</td>\n",
       "      <td>Masculino</td>\n",
       "      <td>Branca</td>\n",
       "      <td>18</td>\n",
       "      <td>Não</td>\n",
       "      <td>NaN</td>\n",
       "      <td>RS</td>\n",
       "      <td>Estudante de Graduação</td>\n",
       "      <td>Computação / Engenharia de Software / Sistemas...</td>\n",
       "      <td>Estagiário</td>\n",
       "      <td>Analista de Dados/Data Analyst</td>\n",
       "      <td>de R$ 1.001/mês a R$ 2.000/mês</td>\n",
       "      <td>de 1 a 2 anos</td>\n",
       "      <td>NaN</td>\n",
       "      <td>1.0</td>\n",
       "      <td>NaN</td>\n",
       "      <td>0.0</td>\n",
       "      <td>1500</td>\n",
       "      <td>R$ 1-2K</td>\n",
       "    </tr>\n",
       "    <tr>\n",
       "      <th>1</th>\n",
       "      <td>17-21</td>\n",
       "      <td>Masculino</td>\n",
       "      <td>Branca</td>\n",
       "      <td>18</td>\n",
       "      <td>Não</td>\n",
       "      <td>NaN</td>\n",
       "      <td>SC</td>\n",
       "      <td>Estudante de Graduação</td>\n",
       "      <td>Computação / Engenharia de Software / Sistemas...</td>\n",
       "      <td>Estagiário</td>\n",
       "      <td>Analista de BI/BI Analyst</td>\n",
       "      <td>Menos de R$ 1.000/mês</td>\n",
       "      <td>Menos de 1 ano</td>\n",
       "      <td>NaN</td>\n",
       "      <td>0.0</td>\n",
       "      <td>NaN</td>\n",
       "      <td>0.0</td>\n",
       "      <td>500</td>\n",
       "      <td>&lt;R$ 1K</td>\n",
       "    </tr>\n",
       "    <tr>\n",
       "      <th>3</th>\n",
       "      <td>17-21</td>\n",
       "      <td>Masculino</td>\n",
       "      <td>Branca</td>\n",
       "      <td>18</td>\n",
       "      <td>Não</td>\n",
       "      <td>NaN</td>\n",
       "      <td>SP</td>\n",
       "      <td>Estudante de Graduação</td>\n",
       "      <td>Computação / Engenharia de Software / Sistemas...</td>\n",
       "      <td>Estagiário</td>\n",
       "      <td>Analista de Dados/Data Analyst</td>\n",
       "      <td>de R$ 1.001/mês a R$ 2.000/mês</td>\n",
       "      <td>Menos de 1 ano</td>\n",
       "      <td>NaN</td>\n",
       "      <td>1.0</td>\n",
       "      <td>NaN</td>\n",
       "      <td>0.0</td>\n",
       "      <td>1500</td>\n",
       "      <td>R$ 1-2K</td>\n",
       "    </tr>\n",
       "    <tr>\n",
       "      <th>5</th>\n",
       "      <td>17-21</td>\n",
       "      <td>Masculino</td>\n",
       "      <td>Parda</td>\n",
       "      <td>18</td>\n",
       "      <td>Sim</td>\n",
       "      <td>Não acredito que minha experiência profissiona...</td>\n",
       "      <td>SP</td>\n",
       "      <td>Graduação/Bacharelado</td>\n",
       "      <td>Economia/ Administração / Contabilidade / Fina...</td>\n",
       "      <td>Empregado (CLT)</td>\n",
       "      <td>Analista de BI/BI Analyst</td>\n",
       "      <td>de R$ 6.001/mês a R$ 8.000/mês</td>\n",
       "      <td>de 5 a 6 anos</td>\n",
       "      <td>NaN</td>\n",
       "      <td>1.0</td>\n",
       "      <td>NaN</td>\n",
       "      <td>0.0</td>\n",
       "      <td>7000</td>\n",
       "      <td>R$ 6-8K</td>\n",
       "    </tr>\n",
       "    <tr>\n",
       "      <th>11</th>\n",
       "      <td>17-21</td>\n",
       "      <td>Masculino</td>\n",
       "      <td>Branca</td>\n",
       "      <td>19</td>\n",
       "      <td>Não</td>\n",
       "      <td>NaN</td>\n",
       "      <td>SC</td>\n",
       "      <td>Estudante de Graduação</td>\n",
       "      <td>Computação / Engenharia de Software / Sistemas...</td>\n",
       "      <td>Empregado (CLT)</td>\n",
       "      <td>Engenheiro de Dados/Data Engineer/Data Architect</td>\n",
       "      <td>de R$ 3.001/mês a R$ 4.000/mês</td>\n",
       "      <td>de 1 a 2 anos</td>\n",
       "      <td>NaN</td>\n",
       "      <td>1.0</td>\n",
       "      <td>NaN</td>\n",
       "      <td>0.0</td>\n",
       "      <td>3500</td>\n",
       "      <td>R$ 3-4K</td>\n",
       "    </tr>\n",
       "  </tbody>\n",
       "</table>\n",
       "</div>"
      ],
      "text/plain": [
       "   faixa_etaria     genero   etnia  idade  pcd  \\\n",
       "0         17-21  Masculino  Branca     18  Não   \n",
       "1         17-21  Masculino  Branca     18  Não   \n",
       "3         17-21  Masculino  Branca     18  Não   \n",
       "5         17-21  Masculino   Parda     18  Sim   \n",
       "11        17-21  Masculino  Branca     19  Não   \n",
       "\n",
       "                          xp_profissional_prejudicada uf_residencia  \\\n",
       "0                                                 NaN            RS   \n",
       "1                                                 NaN            SC   \n",
       "3                                                 NaN            SP   \n",
       "5   Não acredito que minha experiência profissiona...            SP   \n",
       "11                                                NaN            SC   \n",
       "\n",
       "              nivel_ensino                                      area_formacao  \\\n",
       "0   Estudante de Graduação  Computação / Engenharia de Software / Sistemas...   \n",
       "1   Estudante de Graduação  Computação / Engenharia de Software / Sistemas...   \n",
       "3   Estudante de Graduação  Computação / Engenharia de Software / Sistemas...   \n",
       "5    Graduação/Bacharelado  Economia/ Administração / Contabilidade / Fina...   \n",
       "11  Estudante de Graduação  Computação / Engenharia de Software / Sistemas...   \n",
       "\n",
       "   situacao_trabalho                                       cargo_atual  \\\n",
       "0         Estagiário                    Analista de Dados/Data Analyst   \n",
       "1         Estagiário                         Analista de BI/BI Analyst   \n",
       "3         Estagiário                    Analista de Dados/Data Analyst   \n",
       "5    Empregado (CLT)                         Analista de BI/BI Analyst   \n",
       "11   Empregado (CLT)  Engenheiro de Dados/Data Engineer/Data Architect   \n",
       "\n",
       "                    faixa_salarial tempo_experiencia_dados  \\\n",
       "0   de R$ 1.001/mês a R$ 2.000/mês           de 1 a 2 anos   \n",
       "1            Menos de R$ 1.000/mês          Menos de 1 ano   \n",
       "3   de R$ 1.001/mês a R$ 2.000/mês          Menos de 1 ano   \n",
       "5   de R$ 6.001/mês a R$ 8.000/mês           de 5 a 6 anos   \n",
       "11  de R$ 3.001/mês a R$ 4.000/mês           de 1 a 2 anos   \n",
       "\n",
       "    satisfacao_remuneracao  importancia_salario_escolha_emprego  \\\n",
       "0                      NaN                                  1.0   \n",
       "1                      NaN                                  0.0   \n",
       "3                      NaN                                  1.0   \n",
       "5                      NaN                                  1.0   \n",
       "11                     NaN                                  1.0   \n",
       "\n",
       "    satisfacao_beneficios  importancia_beneficios_escolha_emprego  \\\n",
       "0                     NaN                                     0.0   \n",
       "1                     NaN                                     0.0   \n",
       "3                     NaN                                     0.0   \n",
       "5                     NaN                                     0.0   \n",
       "11                    NaN                                     0.0   \n",
       "\n",
       "    salario_medio faixa_salarial_curta  \n",
       "0            1500              R$ 1-2K  \n",
       "1             500               <R$ 1K  \n",
       "3            1500              R$ 1-2K  \n",
       "5            7000              R$ 6-8K  \n",
       "11           3500              R$ 3-4K  "
      ]
     },
     "execution_count": 26,
     "metadata": {},
     "output_type": "execute_result"
    }
   ],
   "source": [
    "df_cargo.head()"
   ]
  },
  {
   "cell_type": "code",
   "execution_count": 27,
   "metadata": {},
   "outputs": [
    {
     "data": {
      "image/png": "[encoded data removed]",
      "text/plain": [
       "<Figure size 1600x1200 with 2 Axes>"
      ]
     },
     "metadata": {},
     "output_type": "display_data"
    }
   ],
   "source": [
    "# Criando gráfico\n",
    "fig, (ax1, ax2) = plt.subplots(2, 1, figsize=(16, 12))\n",
    "\n",
    "# Gráfico de barras com salário médio por cargo\n",
    "bars = ax1.bar(range(len(salario_por_cargo)), salario_por_cargo['mean'], \n",
    "               color='lightgreen', alpha=0.7, edgecolor='darkgreen', linewidth=1)\n",
    "ax1.set_title('💼 Salário Médio por Cargo na Área de Dados', fontsize=16, fontweight='bold')\n",
    "ax1.set_ylabel('Salário Médio (R$)', fontsize=12)\n",
    "ax1.set_xlabel('Cargo', fontsize=12)\n",
    "ax1.set_xticks(range(len(salario_por_cargo)))\n",
    "ax1.set_xticklabels([cargo.replace('/', '\\n') for cargo in salario_por_cargo.index], rotation=45, ha='right')\n",
    "ax1.grid(True, alpha=0.3)\n",
    "\n",
    "# Adicionando valores nas barras\n",
    "for i, valor in enumerate(salario_por_cargo['mean']):\n",
    "    ax1.text(i, valor + 200, f'R$ {valor:.0f}', ha='center', fontweight='bold')\n",
    "\n",
    "# Gráfico de boxplot por cargo\n",
    "sns.boxplot(data=df_cargo, x='cargo_atual', y='salario_medio', ax=ax2)\n",
    "ax2.set_title('📊 Distribuição Salarial por Cargo', fontsize=16, fontweight='bold')\n",
    "ax2.set_ylabel('Salário (R$)', fontsize=12)\n",
    "ax2.set_xlabel('Cargo', fontsize=12)\n",
    "ax2.tick_params(axis='x', rotation=45)\n",
    "ax2.grid(True, alpha=0.3)\n",
    "\n",
    "plt.tight_layout()\n",
    "plt.show()"
   ]
  },
  {
   "cell_type": "code",
   "execution_count": 28,
   "metadata": {},
   "outputs": [
    {
     "name": "stdout",
     "output_type": "stream",
     "text": [
      "📊 ANÁLISE SALARIAL POR CARGO\n",
      "======================================================================\n",
      "Cargo                                    Salário Médio   Mediana         Profissionais\n",
      "----------------------------------------------------------------------\n",
      "Engenheiro de Machine Learning/ML Engineer/AI Engineer R$ 16083        R$ 14000        103         \n",
      "Engenheiro de Dados/Data Engineer/Data Architect R$ 12990        R$ 10000        613         \n",
      "Cientista de Dados/Data Scientist        R$ 11909        R$ 10000        687         \n",
      "Analytics Engineer                       R$ 10873        R$ 10000        228         \n",
      "Analista de Dados/Data Analyst           R$ 8018         R$ 7000         957         \n",
      "Analista de BI/BI Analyst                R$ 6511         R$ 5000         396         \n",
      "\n",
      "🏆 CARGO MAIS BEM REMUNERADO: Engenheiro de Machine Learning/ML Engineer/AI Engineer\n",
      "   💰 Salário Médio: R$ 16082.52\n",
      "   👥 Total de profissionais: 103\n"
     ]
    }
   ],
   "source": [
    "# Estatísticas detalhadas por cargo\n",
    "print(\"📊 ANÁLISE SALARIAL POR CARGO\")\n",
    "print(\"=\" * 70)\n",
    "print(f\"{'Cargo':<40} {'Salário Médio':<15} {'Mediana':<15} {'Profissionais':<12}\")\n",
    "print(\"-\" * 70)\n",
    "for cargo, dados in salario_por_cargo.iterrows():\n",
    "    print(f\"{cargo:<40} R$ {dados['mean']:<12.0f} R$ {dados['median']:<12.0f} {dados['count']:<12.0f}\")\n",
    "\n",
    "# Identificando cargo com melhor remuneração\n",
    "melhor_cargo = salario_por_cargo.index[0]\n",
    "print(f\"\\n🏆 CARGO MAIS BEM REMUNERADO: {melhor_cargo}\")\n",
    "print(f\"   💰 Salário Médio: R$ {salario_por_cargo.loc[melhor_cargo, 'mean']:.2f}\")\n",
    "print(f\"   👥 Total de profissionais: {salario_por_cargo.loc[melhor_cargo, 'count']:.0f}\")"
   ]
  },
  {
   "cell_type": "markdown",
   "metadata": {
    "vscode": {
     "languageId": "raw"
    }
   },
   "source": [
    "## 6. Insights e Conclusões Principais\n",
    "\n",
    "### 💡 Principais Descobertas da Análise\n"
   ]
  },
  {
   "cell_type": "code",
   "execution_count": 29,
   "metadata": {},
   "outputs": [
    {
     "name": "stdout",
     "output_type": "stream",
     "text": [
      "🚀 RESUMO EXECUTIVO - SALÁRIOS NA ÁREA DE DADOS\n",
      "======================================================================\n",
      "\n",
      "📊 PANORAMA GERAL:\n",
      "   • Total de profissionais analisados: 4,863\n",
      "   • Salário médio no setor: R$ 12135.10\n",
      "   • Salário mediano: R$ 10000.00\n",
      "   • Faixa salarial mais comum: de R$ 8.001/mês a R$ 12.000/mês\n"
     ]
    }
   ],
   "source": [
    "# Resumo executivo dos principais insights\n",
    "print(\"🚀 RESUMO EXECUTIVO - SALÁRIOS NA ÁREA DE DADOS\")\n",
    "print(\"=\" * 70)\n",
    "\n",
    "# 1. Estatísticas gerais\n",
    "print(\"\\n📊 PANORAMA GERAL:\")\n",
    "print(f\"   • Total de profissionais analisados: {len(df):,}\")\n",
    "print(f\"   • Salário médio no setor: R$ {df['salario_medio'].mean():.2f}\")\n",
    "print(f\"   • Salário mediano: R$ {df['salario_medio'].median():.2f}\")\n",
    "print(f\"   • Faixa salarial mais comum: {df['faixa_salarial'].mode().iloc[0]}\")"
   ]
  },
  {
   "cell_type": "code",
   "execution_count": 30,
   "metadata": {},
   "outputs": [
    {
     "name": "stdout",
     "output_type": "stream",
     "text": [
      "\n",
      "⚖️ ANÁLISE POR GÊNERO:\n",
      "   • Gap salarial entre homens e mulheres: 19.8%\n",
      "   • Salário médio masculino: R$ 12710.54\n",
      "   • Salário médio feminino: R$ 10197.90\n"
     ]
    }
   ],
   "source": [
    "# 2. Análise por gênero\n",
    "df_genero = df[df['genero'].isin(['Masculino', 'Feminino'])]\n",
    "gap_salarial = ((df_genero[df_genero['genero'] == 'Masculino']['salario_medio'].mean() - \n",
    "                df_genero[df_genero['genero'] == 'Feminino']['salario_medio'].mean()) / \n",
    "                df_genero[df_genero['genero'] == 'Masculino']['salario_medio'].mean()) * 100\n",
    "\n",
    "print(f\"\\n⚖️ ANÁLISE POR GÊNERO:\")\n",
    "print(f\"   • Gap salarial entre homens e mulheres: {gap_salarial:.1f}%\")\n",
    "print(f\"   • Salário médio masculino: R$ {df_genero[df_genero['genero'] == 'Masculino']['salario_medio'].mean():.2f}\")\n",
    "print(f\"   • Salário médio feminino: R$ {df_genero[df_genero['genero'] == 'Feminino']['salario_medio'].mean():.2f}\")"
   ]
  },
  {
   "cell_type": "code",
   "execution_count": 31,
   "metadata": {},
   "outputs": [
    {
     "name": "stdout",
     "output_type": "stream",
     "text": [
      "\n",
      "📈 EVOLUÇÃO POR EXPERIÊNCIA:\n",
      "   • Crescimento salarial (iniciante → experiente): 225.7%\n",
      "   • Salário médio iniciante: R$ 6563.04\n",
      "   • Salário médio experiente: R$ 21374.36\n"
     ]
    }
   ],
   "source": [
    "# 3. Análise por experiência\n",
    "df_exp = df[df['tempo_experiencia_dados'].notna()]\n",
    "iniciante = df_exp[df_exp['tempo_experiencia_dados'] == 'Não tenho experiência na área de dados']['salario_medio'].mean()\n",
    "experiente = df_exp[df_exp['tempo_experiencia_dados'] == 'Mais de 10 anos']['salario_medio'].mean()\n",
    "\n",
    "if not np.isnan(iniciante) and not np.isnan(experiente):\n",
    "    crescimento = ((experiente - iniciante) / iniciante) * 100\n",
    "    print(f\"\\n📈 EVOLUÇÃO POR EXPERIÊNCIA:\")\n",
    "    print(f\"   • Crescimento salarial (iniciante → experiente): {crescimento:.1f}%\")\n",
    "    print(f\"   • Salário médio iniciante: R$ {iniciante:.2f}\")\n",
    "    print(f\"   • Salário médio experiente: R$ {experiente:.2f}\")"
   ]
  },
  {
   "cell_type": "code",
   "execution_count": 33,
   "metadata": {},
   "outputs": [
    {
     "name": "stdout",
     "output_type": "stream",
     "text": [
      "\n",
      "🌍 DISTRIBUIÇÃO GEOGRÁFICA:\n",
      "   • Estados com mais profissionais: SP, MG, PR\n",
      "   • Concentração: 74.1% dos profissionais nos top 3 estados\n"
     ]
    }
   ],
   "source": [
    "# 4. Insights regionais\n",
    "print(f\"\\n🌍 DISTRIBUIÇÃO GEOGRÁFICA:\")\n",
    "top_estados = df['uf_residencia'].value_counts().head(5)\n",
    "print(f\"   • Estados com mais profissionais: {', '.join(top_estados.index[:3])}\")\n",
    "print(f\"   • Concentração: {(top_estados.sum() / len(df) * 100):.1f}% dos profissionais nos top 3 estados\")"
   ]
  },
  {
   "cell_type": "code",
   "execution_count": 34,
   "metadata": {},
   "outputs": [
    {
     "name": "stdout",
     "output_type": "stream",
     "text": [
      "\n",
      "🎯 RECOMENDAÇÕES PARA PROFISSIONAIS:\n",
      "   • Investir em experiência: forte correlação entre tempo e salário\n",
      "   • Focar em cargos de ML/AI: tendem a ter melhor remuneração\n",
      "   • Considerar especialização: cargos técnicos específicos pagam melhor\n",
      "   • Atenção ao gap de gênero: necessário trabalhar equidade salarial\n"
     ]
    }
   ],
   "source": [
    "# 5. Recomendações\n",
    "print(f\"\\n🎯 RECOMENDAÇÕES PARA PROFISSIONAIS:\")\n",
    "print(\"   • Investir em experiência: forte correlação entre tempo e salário\")\n",
    "print(\"   • Focar em cargos de ML/AI: tendem a ter melhor remuneração\")\n",
    "print(\"   • Considerar especialização: cargos técnicos específicos pagam melhor\")\n",
    "print(\"   • Atenção ao gap de gênero: necessário trabalhar equidade salarial\")"
   ]
  },
  {
   "cell_type": "code",
   "execution_count": 35,
   "metadata": {},
   "outputs": [
    {
     "name": "stdout",
     "output_type": "stream",
     "text": [
      "\n",
      "💼 PARA EMPRESAS:\n",
      "   • Revisar políticas de remuneração por gênero\n",
      "   • Estruturar planos de carreira claros\n",
      "   • Investir em retenção de talentos seniores\n",
      "   • Padronizar faixas salariais por experiência\n"
     ]
    }
   ],
   "source": [
    "print(f\"\\n💼 PARA EMPRESAS:\")\n",
    "print(\"   • Revisar políticas de remuneração por gênero\")\n",
    "print(\"   • Estruturar planos de carreira claros\")\n",
    "print(\"   • Investir em retenção de talentos seniores\")\n",
    "print(\"   • Padronizar faixas salariais por experiência\")"
   ]
  },
  {
   "cell_type": "markdown",
   "metadata": {
    "vscode": {
     "languageId": "raw"
    }
   },
   "source": [
    "## 7. Visualização Final - Dashboard Resumo\n",
    "\n",
    "### 🎨 Gráfico Interativo com Plotly\n",
    "\n",
    "Ainda não estamos na aula de Data Viz! Mas vamos fazer uma graça final com a nossa análise exploratória! Eu AMO o plotly, vocês vão ver o porquê!\n"
   ]
  },
  {
   "cell_type": "code",
   "execution_count": 36,
   "metadata": {},
   "outputs": [
    {
     "data": {
      "application/vnd.plotly.v1+json": {
       "config": {
        "plotlyServerURL": "https://plot.ly"
       },
       "data": [
        {
         "marker": {
          "color": "skyblue"
         },
         "name": "Distribuição",
         "type": "bar",
         "x": [
          "R$ 8-12K",
          "R$ 12-16K",
          "R$ 6-8K",
          "R$ 4-6K",
          "R$ 16-20K",
          "R$ 3-4K",
          "R$ 20-25K",
          "R$ 2-3K",
          "R$ 25-30K",
          "R$ 30-40K",
          "R$ 1-2K",
          ">R$ 40K",
          "<R$ 1K"
         ],
         "xaxis": "x",
         "y": {
          "bdata": "OATMApACUQLIAQ4B9gDtAJ8AngCbAGgAIQA=",
          "dtype": "i2"
         },
         "yaxis": "y"
        },
        {
         "marker": {
          "color": [
           "lightblue",
           "lightpink"
          ]
         },
         "name": "Salário por Gênero",
         "type": "bar",
         "x": [
          "Feminino",
          "Masculino"
         ],
         "xaxis": "x2",
         "y": {
          "bdata": "1jmN//Lqw0Dks24wRdPIQA==",
          "dtype": "f8"
         },
         "yaxis": "y2"
        },
        {
         "line": {
          "color": "green",
          "width": 3
         },
         "mode": "lines+markers",
         "name": "Evolução Salarial",
         "type": "scatter",
         "x": [
          0,
          1,
          2,
          3
         ],
         "xaxis": "x3",
         "y": {
          "bdata": "9gK2OV3Ns0CGLGQhC6O5QCuChpO6EbpAdyMgpd03xEA=",
          "dtype": "f8"
         },
         "yaxis": "y3"
        },
        {
         "marker": {
          "color": "lightgreen"
         },
         "name": "Salário por Cargo",
         "type": "bar",
         "x": [
          "Engenheiro de Dados",
          "Cientista de Dados",
          "Analista de Dados"
         ],
         "xaxis": "x4",
         "y": {
          "bdata": "wgMrJRtfyUApXdoqg0LHQK1tXovDUb9A",
          "dtype": "f8"
         },
         "yaxis": "y4"
        }
       ],
       "layout": {
        "annotations": [
         {
          "font": {
           "size": 16
          },
          "showarrow": false,
          "text": "Distribuição Salarial",
          "x": 0.225,
          "xanchor": "center",
          "xref": "paper",
          "y": 1,
          "yanchor": "bottom",
          "yref": "paper"
         },
         {
          "font": {
           "size": 16
          },
          "showarrow": false,
          "text": "Salários por Gênero",
          "x": 0.775,
          "xanchor": "center",
          "xref": "paper",
          "y": 1,
          "yanchor": "bottom",
          "yref": "paper"
         },
         {
          "font": {
           "size": 16
          },
          "showarrow": false,
          "text": "Evolução por Experiência",
          "x": 0.225,
          "xanchor": "center",
          "xref": "paper",
          "y": 0.375,
          "yanchor": "bottom",
          "yref": "paper"
         },
         {
          "font": {
           "size": 16
          },
          "showarrow": false,
          "text": "Top Cargos",
          "x": 0.775,
          "xanchor": "center",
          "xref": "paper",
          "y": 0.375,
          "yanchor": "bottom",
          "yref": "paper"
         }
        ],
        "height": 800,
        "showlegend": false,
        "template": {
         "data": {
          "bar": [
           {
            "error_x": {
             "color": "#2a3f5f"
            },
            "error_y": {
             "color": "#2a3f5f"
            },
            "marker": {
             "line": {
              "color": "#E5ECF6",
              "width": 0.5
             },
             "pattern": {
              "fillmode": "overlay",
              "size": 10,
              "solidity": 0.2
             }
            },
            "type": "bar"
           }
          ],
          "barpolar": [
           {
            "marker": {
             "line": {
              "color": "#E5ECF6",
              "width": 0.5
             },
             "pattern": {
              "fillmode": "overlay",
              "size": 10,
              "solidity": 0.2
             }
            },
            "type": "barpolar"
           }
          ],
          "carpet": [
           {
            "aaxis": {
             "endlinecolor": "#2a3f5f",
             "gridcolor": "white",
             "linecolor": "white",
             "minorgridcolor": "white",
             "startlinecolor": "#2a3f5f"
            },
            "baxis": {
             "endlinecolor": "#2a3f5f",
             "gridcolor": "white",
             "linecolor": "white",
             "minorgridcolor": "white",
             "startlinecolor": "#2a3f5f"
            },
            "type": "carpet"
           }
          ],
          "choropleth": [
           {
            "colorbar": {
             "outlinewidth": 0,
             "ticks": ""
            },
            "type": "choropleth"
           }
          ],
          "contour": [
           {
            "colorbar": {
             "outlinewidth": 0,
             "ticks": ""
            },
            "colorscale": [
             [
              0,
              "#0d0887"
             ],
             [
              0.1111111111111111,
              "#46039f"
             ],
             [
              0.2222222222222222,
              "#7201a8"
             ],
             [
              0.3333333333333333,
              "#9c179e"
             ],
             [
              0.4444444444444444,
              "#bd3786"
             ],
             [
              0.5555555555555556,
              "#d8576b"
             ],
             [
              0.6666666666666666,
              "#ed7953"
             ],
             [
              0.7777777777777778,
              "#fb9f3a"
             ],
             [
              0.8888888888888888,
              "#fdca26"
             ],
             [
              1,
              "#f0f921"
             ]
            ],
            "type": "contour"
           }
          ],
          "contourcarpet": [
           {
            "colorbar": {
             "outlinewidth": 0,
             "ticks": ""
            },
            "type": "contourcarpet"
           }
          ],
          "heatmap": [
           {
            "colorbar": {
             "outlinewidth": 0,
             "ticks": ""
            },
            "colorscale": [
             [
              0,
              "#0d0887"
             ],
             [
              0.1111111111111111,
              "#46039f"
             ],
             [
              0.2222222222222222,
              "#7201a8"
             ],
             [
              0.3333333333333333,
              "#9c179e"
             ],
             [
              0.4444444444444444,
              "#bd3786"
             ],
             [
              0.5555555555555556,
              "#d8576b"
             ],
             [
              0.6666666666666666,
              "#ed7953"
             ],
             [
              0.7777777777777778,
              "#fb9f3a"
             ],
             [
              0.8888888888888888,
              "#fdca26"
             ],
             [
              1,
              "#f0f921"
             ]
            ],
            "type": "heatmap"
           }
          ],
          "histogram": [
           {
            "marker": {
             "pattern": {
              "fillmode": "overlay",
              "size": 10,
              "solidity": 0.2
             }
            },
            "type": "histogram"
           }
          ],
          "histogram2d": [
           {
            "colorbar": {
             "outlinewidth": 0,
             "ticks": ""
            },
            "colorscale": [
             [
              0,
              "#0d0887"
             ],
             [
              0.1111111111111111,
              "#46039f"
             ],
             [
              0.2222222222222222,
              "#7201a8"
             ],
             [
              0.3333333333333333,
              "#9c179e"
             ],
             [
              0.4444444444444444,
              "#bd3786"
             ],
             [
              0.5555555555555556,
              "#d8576b"
             ],
             [
              0.6666666666666666,
              "#ed7953"
             ],
             [
              0.7777777777777778,
              "#fb9f3a"
             ],
             [
              0.8888888888888888,
              "#fdca26"
             ],
             [
              1,
              "#f0f921"
             ]
            ],
            "type": "histogram2d"
           }
          ],
          "histogram2dcontour": [
           {
            "colorbar": {
             "outlinewidth": 0,
             "ticks": ""
            },
            "colorscale": [
             [
              0,
              "#0d0887"
             ],
             [
              0.1111111111111111,
              "#46039f"
             ],
             [
              0.2222222222222222,
              "#7201a8"
             ],
             [
              0.3333333333333333,
              "#9c179e"
             ],
             [
              0.4444444444444444,
              "#bd3786"
             ],
             [
              0.5555555555555556,
              "#d8576b"
             ],
             [
              0.6666666666666666,
              "#ed7953"
             ],
             [
              0.7777777777777778,
              "#fb9f3a"
             ],
             [
              0.8888888888888888,
              "#fdca26"
             ],
             [
              1,
              "#f0f921"
             ]
            ],
            "type": "histogram2dcontour"
           }
          ],
          "mesh3d": [
           {
            "colorbar": {
             "outlinewidth": 0,
             "ticks": ""
            },
            "type": "mesh3d"
           }
          ],
          "parcoords": [
           {
            "line": {
             "colorbar": {
              "outlinewidth": 0,
              "ticks": ""
             }
            },
            "type": "parcoords"
           }
          ],
          "pie": [
           {
            "automargin": true,
            "type": "pie"
           }
          ],
          "scatter": [
           {
            "fillpattern": {
             "fillmode": "overlay",
             "size": 10,
             "solidity": 0.2
            },
            "type": "scatter"
           }
          ],
          "scatter3d": [
           {
            "line": {
             "colorbar": {
              "outlinewidth": 0,
              "ticks": ""
             }
            },
            "marker": {
             "colorbar": {
              "outlinewidth": 0,
              "ticks": ""
             }
            },
            "type": "scatter3d"
           }
          ],
          "scattercarpet": [
           {
            "marker": {
             "colorbar": {
              "outlinewidth": 0,
              "ticks": ""
             }
            },
            "type": "scattercarpet"
           }
          ],
          "scattergeo": [
           {
            "marker": {
             "colorbar": {
              "outlinewidth": 0,
              "ticks": ""
             }
            },
            "type": "scattergeo"
           }
          ],
          "scattergl": [
           {
            "marker": {
             "colorbar": {
              "outlinewidth": 0,
              "ticks": ""
             }
            },
            "type": "scattergl"
           }
          ],
          "scattermap": [
           {
            "marker": {
             "colorbar": {
              "outlinewidth": 0,
              "ticks": ""
             }
            },
            "type": "scattermap"
           }
          ],
          "scattermapbox": [
           {
            "marker": {
             "colorbar": {
              "outlinewidth": 0,
              "ticks": ""
             }
            },
            "type": "scattermapbox"
           }
          ],
          "scatterpolar": [
           {
            "marker": {
             "colorbar": {
              "outlinewidth": 0,
              "ticks": ""
             }
            },
            "type": "scatterpolar"
           }
          ],
          "scatterpolargl": [
           {
            "marker": {
             "colorbar": {
              "outlinewidth": 0,
              "ticks": ""
             }
            },
            "type": "scatterpolargl"
           }
          ],
          "scatterternary": [
           {
            "marker": {
             "colorbar": {
              "outlinewidth": 0,
              "ticks": ""
             }
            },
            "type": "scatterternary"
           }
          ],
          "surface": [
           {
            "colorbar": {
             "outlinewidth": 0,
             "ticks": ""
            },
            "colorscale": [
             [
              0,
              "#0d0887"
             ],
             [
              0.1111111111111111,
              "#46039f"
             ],
             [
              0.2222222222222222,
              "#7201a8"
             ],
             [
              0.3333333333333333,
              "#9c179e"
             ],
             [
              0.4444444444444444,
              "#bd3786"
             ],
             [
              0.5555555555555556,
              "#d8576b"
             ],
             [
              0.6666666666666666,
              "#ed7953"
             ],
             [
              0.7777777777777778,
              "#fb9f3a"
             ],
             [
              0.8888888888888888,
              "#fdca26"
             ],
             [
              1,
              "#f0f921"
             ]
            ],
            "type": "surface"
           }
          ],
          "table": [
           {
            "cells": {
             "fill": {
              "color": "#EBF0F8"
             },
             "line": {
              "color": "white"
             }
            },
            "header": {
             "fill": {
              "color": "#C8D4E3"
             },
             "line": {
              "color": "white"
             }
            },
            "type": "table"
           }
          ]
         },
         "layout": {
          "annotationdefaults": {
           "arrowcolor": "#2a3f5f",
           "arrowhead": 0,
           "arrowwidth": 1
          },
          "autotypenumbers": "strict",
          "coloraxis": {
           "colorbar": {
            "outlinewidth": 0,
            "ticks": ""
           }
          },
          "colorscale": {
           "diverging": [
            [
             0,
             "#8e0152"
            ],
            [
             0.1,
             "#c51b7d"
            ],
            [
             0.2,
             "#de77ae"
            ],
            [
             0.3,
             "#f1b6da"
            ],
            [
             0.4,
             "#fde0ef"
            ],
            [
             0.5,
             "#f7f7f7"
            ],
            [
             0.6,
             "#e6f5d0"
            ],
            [
             0.7,
             "#b8e186"
            ],
            [
             0.8,
             "#7fbc41"
            ],
            [
             0.9,
             "#4d9221"
            ],
            [
             1,
             "#276419"
            ]
           ],
           "sequential": [
            [
             0,
             "#0d0887"
            ],
            [
             0.1111111111111111,
             "#46039f"
            ],
            [
             0.2222222222222222,
             "#7201a8"
            ],
            [
             0.3333333333333333,
             "#9c179e"
            ],
            [
             0.4444444444444444,
             "#bd3786"
            ],
            [
             0.5555555555555556,
             "#d8576b"
            ],
            [
             0.6666666666666666,
             "#ed7953"
            ],
            [
             0.7777777777777778,
             "#fb9f3a"
            ],
            [
             0.8888888888888888,
             "#fdca26"
            ],
            [
             1,
             "#f0f921"
            ]
           ],
           "sequentialminus": [
            [
             0,
             "#0d0887"
            ],
            [
             0.1111111111111111,
             "#46039f"
            ],
            [
             0.2222222222222222,
             "#7201a8"
            ],
            [
             0.3333333333333333,
             "#9c179e"
            ],
            [
             0.4444444444444444,
             "#bd3786"
            ],
            [
             0.5555555555555556,
             "#d8576b"
            ],
            [
             0.6666666666666666,
             "#ed7953"
            ],
            [
             0.7777777777777778,
             "#fb9f3a"
            ],
            [
             0.8888888888888888,
             "#fdca26"
            ],
            [
             1,
             "#f0f921"
            ]
           ]
          },
          "colorway": [
           "#636efa",
           "#EF553B",
           "#00cc96",
           "#ab63fa",
           "#FFA15A",
           "#19d3f3",
           "#FF6692",
           "#B6E880",
           "#FF97FF",
           "#FECB52"
          ],
          "font": {
           "color": "#2a3f5f"
          },
          "geo": {
           "bgcolor": "white",
           "lakecolor": "white",
           "landcolor": "#E5ECF6",
           "showlakes": true,
           "showland": true,
           "subunitcolor": "white"
          },
          "hoverlabel": {
           "align": "left"
          },
          "hovermode": "closest",
          "mapbox": {
           "style": "light"
          },
          "paper_bgcolor": "white",
          "plot_bgcolor": "#E5ECF6",
          "polar": {
           "angularaxis": {
            "gridcolor": "white",
            "linecolor": "white",
            "ticks": ""
           },
           "bgcolor": "#E5ECF6",
           "radialaxis": {
            "gridcolor": "white",
            "linecolor": "white",
            "ticks": ""
           }
          },
          "scene": {
           "xaxis": {
            "backgroundcolor": "#E5ECF6",
            "gridcolor": "white",
            "gridwidth": 2,
            "linecolor": "white",
            "showbackground": true,
            "ticks": "",
            "zerolinecolor": "white"
           },
           "yaxis": {
            "backgroundcolor": "#E5ECF6",
            "gridcolor": "white",
            "gridwidth": 2,
            "linecolor": "white",
            "showbackground": true,
            "ticks": "",
            "zerolinecolor": "white"
           },
           "zaxis": {
            "backgroundcolor": "#E5ECF6",
            "gridcolor": "white",
            "gridwidth": 2,
            "linecolor": "white",
            "showbackground": true,
            "ticks": "",
            "zerolinecolor": "white"
           }
          },
          "shapedefaults": {
           "line": {
            "color": "#2a3f5f"
           }
          },
          "ternary": {
           "aaxis": {
            "gridcolor": "white",
            "linecolor": "white",
            "ticks": ""
           },
           "baxis": {
            "gridcolor": "white",
            "linecolor": "white",
            "ticks": ""
           },
           "bgcolor": "#E5ECF6",
           "caxis": {
            "gridcolor": "white",
            "linecolor": "white",
            "ticks": ""
           }
          },
          "title": {
           "x": 0.05
          },
          "xaxis": {
           "automargin": true,
           "gridcolor": "white",
           "linecolor": "white",
           "ticks": "",
           "title": {
            "standoff": 15
           },
           "zerolinecolor": "white",
           "zerolinewidth": 2
          },
          "yaxis": {
           "automargin": true,
           "gridcolor": "white",
           "linecolor": "white",
           "ticks": "",
           "title": {
            "standoff": 15
           },
           "zerolinecolor": "white",
           "zerolinewidth": 2
          }
         }
        },
        "title": {
         "font": {
          "size": 20
         },
         "text": "📊 Dashboard - Análise Salarial da Área de Dados"
        },
        "xaxis": {
         "anchor": "y",
         "domain": [
          0,
          0.45
         ]
        },
        "xaxis2": {
         "anchor": "y2",
         "domain": [
          0.55,
          1
         ]
        },
        "xaxis3": {
         "anchor": "y3",
         "domain": [
          0,
          0.45
         ]
        },
        "xaxis4": {
         "anchor": "y4",
         "domain": [
          0.55,
          1
         ]
        },
        "yaxis": {
         "anchor": "x",
         "domain": [
          0.625,
          1
         ]
        },
        "yaxis2": {
         "anchor": "x2",
         "domain": [
          0.625,
          1
         ]
        },
        "yaxis3": {
         "anchor": "x3",
         "domain": [
          0,
          0.375
         ]
        },
        "yaxis4": {
         "anchor": "x4",
         "domain": [
          0,
          0.375
         ]
        }
       }
      },
      "image/png": "[encoded data removed]"
     },
     "metadata": {},
     "output_type": "display_data"
    },
    {
     "name": "stdout",
     "output_type": "stream",
     "text": [
      "✨ Dashboard interativo criado com sucesso!\n",
      "   • Explore os gráficos passando o mouse sobre eles\n",
      "   • Os gráficos mostram um resumo visual dos principais insights\n",
      "   • Use as ferramentas de zoom e pan para explorar os dados\n"
     ]
    }
   ],
   "source": [
    "# Criando um dashboard interativo com Plotly\n",
    "fig = make_subplots(\n",
    "    rows=2, cols=2,\n",
    "    subplot_titles=('Distribuição Salarial', 'Salários por Gênero', \n",
    "                   'Evolução por Experiência', 'Top Cargos'),\n",
    "    specs=[[{\"secondary_y\": False}, {\"secondary_y\": False}],\n",
    "           [{\"secondary_y\": False}, {\"secondary_y\": False}]]\n",
    ")\n",
    "\n",
    "# 1. Distribuição salarial\n",
    "counts = df['faixa_salarial'].value_counts()\n",
    "fig.add_trace(\n",
    "    go.Bar(x=[labels_curtos[faixa] for faixa in counts.index], \n",
    "           y=counts.values, \n",
    "           name='Distribuição',\n",
    "           marker_color='skyblue'),\n",
    "    row=1, col=1\n",
    ")\n",
    "\n",
    "# 2. Salários por gênero\n",
    "df_genero = df[df['genero'].isin(['Masculino', 'Feminino'])]\n",
    "salario_genero = df_genero.groupby('genero')['salario_medio'].mean()\n",
    "fig.add_trace(\n",
    "    go.Bar(x=salario_genero.index, \n",
    "           y=salario_genero.values, \n",
    "           name='Salário por Gênero',\n",
    "           marker_color=['lightblue', 'lightpink']),\n",
    "    row=1, col=2\n",
    ")\n",
    "\n",
    "# 3. Evolução por experiência (apenas com dados válidos)\n",
    "ordem_exp = ['Não tenho experiência na área de dados', 'Menos de 1 ano', 'de 1 a 2 anos', 'de 3 a 4 anos']\n",
    "df_exp = df[df['tempo_experiencia_dados'].isin(ordem_exp)]\n",
    "if len(df_exp) > 0:\n",
    "    exp_data = df_exp.groupby('tempo_experiencia_dados')['salario_medio'].mean()\n",
    "    fig.add_trace(\n",
    "        go.Scatter(x=list(range(len(exp_data))), \n",
    "                   y=exp_data.values,\n",
    "                   mode='lines+markers',\n",
    "                   name='Evolução Salarial',\n",
    "                   line=dict(color='green', width=3)),\n",
    "        row=2, col=1\n",
    "    )\n",
    "\n",
    "# 4. Top cargos\n",
    "cargos_top = ['Analista de Dados/Data Analyst', 'Cientista de Dados/Data Scientist', \n",
    "              'Engenheiro de Dados/Data Engineer/Data Architect']\n",
    "df_cargos = df[df['cargo_atual'].isin(cargos_top)]\n",
    "if len(df_cargos) > 0:\n",
    "    cargo_data = df_cargos.groupby('cargo_atual')['salario_medio'].mean().sort_values(ascending=False)\n",
    "    fig.add_trace(\n",
    "        go.Bar(x=[cargo.split('/')[0] for cargo in cargo_data.index], \n",
    "               y=cargo_data.values,\n",
    "               name='Salário por Cargo',\n",
    "               marker_color='lightgreen'),\n",
    "        row=2, col=2\n",
    "    )\n",
    "\n",
    "# Configurações do layout\n",
    "fig.update_layout(\n",
    "    title_text=\"📊 Dashboard - Análise Salarial da Área de Dados\",\n",
    "    title_font_size=20,\n",
    "    height=800,\n",
    "    showlegend=False\n",
    ")\n",
    "\n",
    "fig.show()\n",
    "\n",
    "print(\"✨ Dashboard interativo criado com sucesso!\")\n",
    "print(\"   • Explore os gráficos passando o mouse sobre eles\")\n",
    "print(\"   • Os gráficos mostram um resumo visual dos principais insights\")\n",
    "print(\"   • Use as ferramentas de zoom e pan para explorar os dados\")\n"
   ]
  },
  {
   "cell_type": "markdown",
   "metadata": {
    "vscode": {
     "languageId": "raw"
    }
   },
   "source": [
    "## 8. Conclusão\n",
    "\n",
    "### 🎯 Resultados da Análise Exploratória\n",
    "\n",
    "Esta análise exploratória revelou insights valiosos sobre o mercado de trabalho na área de dados no Brasil:\n",
    "\n",
    "#### 💰 **Remuneração**\n",
    "- A faixa salarial mais comum está entre R$ 8.001 e R$ 12.000\n",
    "- Existe uma grande variação salarial dependendo do cargo e experiência\n",
    "- Profissionais com mais de 10 anos de experiência podem ganhar até 3x mais que iniciantes\n",
    "\n",
    "#### 👥 **Equidade**\n",
    "- Existe um gap salarial significativo entre homens e mulheres\n",
    "- A representatividade feminina varia conforme o cargo\n",
    "- Necessário trabalhar políticas de equidade salarial\n",
    "\n",
    "#### 🚀 **Crescimento Profissional**\n",
    "- Experiência é o fator mais importante para crescimento salarial\n",
    "- Cargos de ML/AI tendem a ter melhor remuneração\n",
    "- Especialização técnica é valorizada pelo mercado\n",
    "\n",
    "#### 📍 **Distribuição Geográfica**\n",
    "- Concentração de profissionais nos grandes centros (SP, RJ, MG)\n",
    "- Possível correlação entre localização e faixa salarial\n",
    "- Mercado em expansão em outras regiões\n",
    "\n",
    "---\n",
    "\n",
    "### 🔮 Próximos Passos\n",
    "\n",
    "#### ESCOLHER UMA ESTRATÉGIA, UMA HIPÓTESE\n",
    "\n",
    "Exs: \n",
    "- Quem não tem experiência ganha mais que quem tem um ano? Porque? É alguma distorção?\n",
    "- Quem tem mais experiência como Analista ganha mais ou menos que outros cargos com menos experiência?\n",
    "- A idade afeta mais algum profissional de dados que outro?\n",
    "- O gap de gênero se mantém em todos os profissionais, idade e experiência?\n",
    "\n",
    "OLHA O TANTO DE COISA LEGAL QUE DÁ PRA USAR!"
   ]
  },
  {
   "cell_type": "markdown",
   "metadata": {
    "vscode": {
     "languageId": "raw"
    }
   },
   "source": [
    "## Conclusão da Aula 02\n",
    "\n",
    "Parabéns! Chegamos ao final da nossa segunda aula. Agora que sabem como explorar, FUCEM BASTANTE na base de dados e procurem bons insights! Tenho certeza que nessa aula você já pensou em algo pra mandar pro desafio! \n",
    "\n",
    "Na próxima aula vamos EMBELEZAR nossa análise, a partir de uma hipótese, vamos criar gráficos bem bonitos, agora não mais para explorar, mas para \"SE AMOSTRAR\" para os jurados e juradas do Challenge!\n",
    "\n",
    "### Técnicas Aprendidas\n",
    "\n",
    "- **Data Cleaning**: Limpeza e preparação de dados categóricos\n",
    "- **Visualização**: Criação de gráficos informativos e bonitos\n",
    "- **Análise Estatística**: Cálculo de métricas descritivas\n",
    "- **Dashboard**: Só um inicial, para criação de visualizações interativas\n",
    "\n",
    "Até a próxima aula!!"
   ]
  },
  {
   "cell_type": "code",
   "execution_count": null,
   "metadata": {},
   "outputs": [],
   "source": []
  },
  {
   "cell_type": "code",
   "execution_count": null,
   "metadata": {},
   "outputs": [],
   "source": []
  }
 ],
 "metadata": {
  "kernelspec": {
   "display_name": "Python 3 (ipykernel)",
   "language": "python",
   "name": "python3"
  },
  "language_info": {
   "codemirror_mode": {
    "name": "ipython",
    "version": 3
   },
   "file_extension": ".py",
   "mimetype": "text/x-python",
   "name": "python",
   "nbconvert_exporter": "python",
   "pygments_lexer": "ipython3",
   "version": "3.12.10"
  }
 },
 "nbformat": 4,
 "nbformat_minor": 4
}
